{
 "cells": [
  {
   "cell_type": "markdown",
   "id": "4a956c22-14e5-4ee2-a8f0-0cec626f6105",
   "metadata": {},
   "source": [
    "## Import packages"
   ]
  },
  {
   "cell_type": "code",
   "execution_count": 1,
   "id": "cea59ee1-d161-402a-883f-e75d6593d813",
   "metadata": {},
   "outputs": [],
   "source": [
    "import pandas as pd\n",
    "import numpy as np\n",
    "import matplotlib.pyplot as plt\n",
    "import seaborn as sns\n",
    "from sklearn.preprocessing import LabelEncoder,MinMaxScaler\n",
    "from sklearn.model_selection import train_test_split\n",
    "from sklearn.naive_bayes import GaussianNB\n",
    "from sklearn.neighbors import KNeighborsClassifier\n",
    "from sklearn.svm import SVC\n",
    "from sklearn.svm import LinearSVC\n",
    "\n",
    "from sklearn.tree import DecisionTreeClassifier\n",
    "from sklearn.linear_model import LogisticRegression\n",
    "from sklearn.metrics import accuracy_score, confusion_matrix, f1_score, precision_score,recall_score,classification_report\n",
    "import os\n",
    "from tqdm import tqdm\n",
    "from imblearn.over_sampling import SMOTE\n",
    "\n",
    "import warnings \n",
    "warnings.filterwarnings('ignore')"
   ]
  },
  {
   "cell_type": "markdown",
   "id": "bbd9d583-bc83-4e11-ada7-aeb6fae0b85f",
   "metadata": {},
   "source": [
    "## Read the own Dataset (Own data)"
   ]
  },
  {
   "cell_type": "code",
   "execution_count": 2,
   "id": "07d381b3-58cd-43b2-8dce-611b4c686414",
   "metadata": {},
   "outputs": [],
   "source": [
    "DATA_PATH='.'\n",
    "data_animal=pd.read_csv(os.path.join(DATA_PATH,\"data.csv\"))"
   ]
  },
  {
   "cell_type": "code",
   "execution_count": 3,
   "id": "66bda982-6428-4f67-be82-cdbd610f8ebb",
   "metadata": {},
   "outputs": [
    {
     "data": {
      "text/html": [
       "<div>\n",
       "<style scoped>\n",
       "    .dataframe tbody tr th:only-of-type {\n",
       "        vertical-align: middle;\n",
       "    }\n",
       "\n",
       "    .dataframe tbody tr th {\n",
       "        vertical-align: top;\n",
       "    }\n",
       "\n",
       "    .dataframe thead th {\n",
       "        text-align: right;\n",
       "    }\n",
       "</style>\n",
       "<table border=\"1\" class=\"dataframe\">\n",
       "  <thead>\n",
       "    <tr style=\"text-align: right;\">\n",
       "      <th></th>\n",
       "      <th>AnimalName</th>\n",
       "      <th>symptoms1</th>\n",
       "      <th>symptoms2</th>\n",
       "      <th>symptoms3</th>\n",
       "      <th>symptoms4</th>\n",
       "      <th>symptoms5</th>\n",
       "      <th>Dangerous</th>\n",
       "    </tr>\n",
       "  </thead>\n",
       "  <tbody>\n",
       "    <tr>\n",
       "      <th>0</th>\n",
       "      <td>Dog</td>\n",
       "      <td>Fever</td>\n",
       "      <td>Diarrhea</td>\n",
       "      <td>Vomiting</td>\n",
       "      <td>Weight loss</td>\n",
       "      <td>Dehydration</td>\n",
       "      <td>Yes</td>\n",
       "    </tr>\n",
       "    <tr>\n",
       "      <th>1</th>\n",
       "      <td>Dog</td>\n",
       "      <td>Fever</td>\n",
       "      <td>Diarrhea</td>\n",
       "      <td>Coughing</td>\n",
       "      <td>Tiredness</td>\n",
       "      <td>Pains</td>\n",
       "      <td>Yes</td>\n",
       "    </tr>\n",
       "    <tr>\n",
       "      <th>2</th>\n",
       "      <td>Dog</td>\n",
       "      <td>Fever</td>\n",
       "      <td>Diarrhea</td>\n",
       "      <td>Coughing</td>\n",
       "      <td>Vomiting</td>\n",
       "      <td>Anorexia</td>\n",
       "      <td>Yes</td>\n",
       "    </tr>\n",
       "    <tr>\n",
       "      <th>3</th>\n",
       "      <td>Dog</td>\n",
       "      <td>Fever</td>\n",
       "      <td>Difficulty breathing</td>\n",
       "      <td>Coughing</td>\n",
       "      <td>Lethargy</td>\n",
       "      <td>Sneezing</td>\n",
       "      <td>Yes</td>\n",
       "    </tr>\n",
       "    <tr>\n",
       "      <th>4</th>\n",
       "      <td>Dog</td>\n",
       "      <td>Fever</td>\n",
       "      <td>Diarrhea</td>\n",
       "      <td>Coughing</td>\n",
       "      <td>Lethargy</td>\n",
       "      <td>Blue Eye</td>\n",
       "      <td>Yes</td>\n",
       "    </tr>\n",
       "  </tbody>\n",
       "</table>\n",
       "</div>"
      ],
      "text/plain": [
       "  AnimalName symptoms1             symptoms2 symptoms3    symptoms4   \n",
       "0        Dog     Fever              Diarrhea  Vomiting  Weight loss  \\\n",
       "1        Dog     Fever              Diarrhea  Coughing    Tiredness   \n",
       "2        Dog     Fever              Diarrhea  Coughing     Vomiting   \n",
       "3        Dog     Fever  Difficulty breathing  Coughing     Lethargy   \n",
       "4        Dog     Fever              Diarrhea  Coughing     Lethargy   \n",
       "\n",
       "     symptoms5 Dangerous  \n",
       "0  Dehydration       Yes  \n",
       "1        Pains       Yes  \n",
       "2     Anorexia       Yes  \n",
       "3     Sneezing       Yes  \n",
       "4     Blue Eye       Yes  "
      ]
     },
     "execution_count": 3,
     "metadata": {},
     "output_type": "execute_result"
    }
   ],
   "source": [
    "## see the dataset\n",
    "data_animal.head()"
   ]
  },
  {
   "cell_type": "code",
   "execution_count": 4,
   "id": "8d6b00ce-9ba0-4619-bd99-8f7a5c062c41",
   "metadata": {},
   "outputs": [
    {
     "name": "stdout",
     "output_type": "stream",
     "text": [
      "<class 'pandas.core.frame.DataFrame'>\n",
      "RangeIndex: 871 entries, 0 to 870\n",
      "Data columns (total 7 columns):\n",
      " #   Column      Non-Null Count  Dtype \n",
      "---  ------      --------------  ----- \n",
      " 0   AnimalName  871 non-null    object\n",
      " 1   symptoms1   871 non-null    object\n",
      " 2   symptoms2   871 non-null    object\n",
      " 3   symptoms3   871 non-null    object\n",
      " 4   symptoms4   871 non-null    object\n",
      " 5   symptoms5   871 non-null    object\n",
      " 6   Dangerous   869 non-null    object\n",
      "dtypes: object(7)\n",
      "memory usage: 47.8+ KB\n"
     ]
    }
   ],
   "source": [
    "## get the info\n",
    "data_animal.info()"
   ]
  },
  {
   "cell_type": "code",
   "execution_count": 5,
   "id": "a7e582ee-de5f-434e-9994-67a6ab3ec8f8",
   "metadata": {
    "scrolled": true
   },
   "outputs": [
    {
     "data": {
      "text/html": [
       "<div>\n",
       "<style scoped>\n",
       "    .dataframe tbody tr th:only-of-type {\n",
       "        vertical-align: middle;\n",
       "    }\n",
       "\n",
       "    .dataframe tbody tr th {\n",
       "        vertical-align: top;\n",
       "    }\n",
       "\n",
       "    .dataframe thead th {\n",
       "        text-align: right;\n",
       "    }\n",
       "</style>\n",
       "<table border=\"1\" class=\"dataframe\">\n",
       "  <thead>\n",
       "    <tr style=\"text-align: right;\">\n",
       "      <th></th>\n",
       "      <th>AnimalName</th>\n",
       "      <th>symptoms1</th>\n",
       "      <th>symptoms2</th>\n",
       "      <th>symptoms3</th>\n",
       "      <th>symptoms4</th>\n",
       "      <th>symptoms5</th>\n",
       "      <th>Dangerous</th>\n",
       "    </tr>\n",
       "  </thead>\n",
       "  <tbody>\n",
       "    <tr>\n",
       "      <th>count</th>\n",
       "      <td>871</td>\n",
       "      <td>871</td>\n",
       "      <td>871</td>\n",
       "      <td>871</td>\n",
       "      <td>871</td>\n",
       "      <td>871</td>\n",
       "      <td>869</td>\n",
       "    </tr>\n",
       "    <tr>\n",
       "      <th>unique</th>\n",
       "      <td>46</td>\n",
       "      <td>232</td>\n",
       "      <td>230</td>\n",
       "      <td>229</td>\n",
       "      <td>217</td>\n",
       "      <td>203</td>\n",
       "      <td>2</td>\n",
       "    </tr>\n",
       "    <tr>\n",
       "      <th>top</th>\n",
       "      <td>Buffaloes</td>\n",
       "      <td>Fever</td>\n",
       "      <td>Diarrhea</td>\n",
       "      <td>Coughing</td>\n",
       "      <td>Weight loss</td>\n",
       "      <td>Pains</td>\n",
       "      <td>Yes</td>\n",
       "    </tr>\n",
       "    <tr>\n",
       "      <th>freq</th>\n",
       "      <td>129</td>\n",
       "      <td>257</td>\n",
       "      <td>119</td>\n",
       "      <td>95</td>\n",
       "      <td>117</td>\n",
       "      <td>99</td>\n",
       "      <td>849</td>\n",
       "    </tr>\n",
       "  </tbody>\n",
       "</table>\n",
       "</div>"
      ],
      "text/plain": [
       "       AnimalName symptoms1 symptoms2 symptoms3    symptoms4 symptoms5   \n",
       "count         871       871       871       871          871       871  \\\n",
       "unique         46       232       230       229          217       203   \n",
       "top     Buffaloes     Fever  Diarrhea  Coughing  Weight loss     Pains   \n",
       "freq          129       257       119        95          117        99   \n",
       "\n",
       "       Dangerous  \n",
       "count        869  \n",
       "unique         2  \n",
       "top          Yes  \n",
       "freq         849  "
      ]
     },
     "execution_count": 5,
     "metadata": {},
     "output_type": "execute_result"
    }
   ],
   "source": [
    "## gives the statistics \n",
    "data_animal.describe()"
   ]
  },
  {
   "cell_type": "markdown",
   "id": "2af83bd1-6e57-4227-b62c-429f0fb03353",
   "metadata": {},
   "source": [
    "## check nan values"
   ]
  },
  {
   "cell_type": "code",
   "execution_count": 6,
   "id": "19ff3905-9dd6-4cb2-a36e-41e40568ebc2",
   "metadata": {},
   "outputs": [
    {
     "data": {
      "text/plain": [
       "AnimalName    0\n",
       "symptoms1     0\n",
       "symptoms2     0\n",
       "symptoms3     0\n",
       "symptoms4     0\n",
       "symptoms5     0\n",
       "Dangerous     2\n",
       "dtype: int64"
      ]
     },
     "execution_count": 6,
     "metadata": {},
     "output_type": "execute_result"
    }
   ],
   "source": [
    "## we see that Dangerous column has nan values\n",
    "data_animal.isna().sum()"
   ]
  },
  {
   "cell_type": "markdown",
   "id": "2a7f23ad-d3cc-49be-9843-fe7719339166",
   "metadata": {},
   "source": [
    "* As data is missing from label we will drop those rows"
   ]
  },
  {
   "cell_type": "code",
   "execution_count": 7,
   "id": "8ac158dd-7c56-4f81-b911-902b5d90ccdc",
   "metadata": {},
   "outputs": [
    {
     "data": {
      "text/plain": [
       "(869, 7)"
      ]
     },
     "execution_count": 7,
     "metadata": {},
     "output_type": "execute_result"
    }
   ],
   "source": [
    "data_animal = data_animal.dropna()\n",
    "data_animal.shape"
   ]
  },
  {
   "cell_type": "markdown",
   "id": "f465c2a3-1484-491f-87a9-ccb45c7b4d5a",
   "metadata": {},
   "source": [
    "## count plot of Dangerous column"
   ]
  },
  {
   "cell_type": "code",
   "execution_count": 8,
   "id": "abfe4c87-641f-4499-aa04-7185e406f4a6",
   "metadata": {
    "scrolled": true
   },
   "outputs": [
    {
     "data": {
      "text/plain": [
       "<Axes: xlabel='Dangerous', ylabel='count'>"
      ]
     },
     "execution_count": 8,
     "metadata": {},
     "output_type": "execute_result"
    },
    {
     "data": {
      "image/png": "[encoded data removed]",
      "text/plain": [
       "<Figure size 640x480 with 1 Axes>"
      ]
     },
     "metadata": {},
     "output_type": "display_data"
    }
   ],
   "source": [
    "# plot the DangerousCounts\n",
    "sns.countplot(data_animal, x=\"Dangerous\")"
   ]
  },
  {
   "cell_type": "markdown",
   "id": "9b0a4142-3684-4bcf-bd03-38e5292d588d",
   "metadata": {},
   "source": [
    "## count plot of AnimalName column"
   ]
  },
  {
   "cell_type": "code",
   "execution_count": 9,
   "id": "5a09956a-c9b1-41c9-a6e9-2c432a6fb8dc",
   "metadata": {},
   "outputs": [
    {
     "data": {
      "text/plain": [
       "<Axes: xlabel='AnimalName', ylabel='count'>"
      ]
     },
     "execution_count": 9,
     "metadata": {},
     "output_type": "execute_result"
    },
    {
     "data": {
      "image/png": "[encoded data removed]",
      "text/plain": [
       "<Figure size 1000x1000 with 1 Axes>"
      ]
     },
     "metadata": {},
     "output_type": "display_data"
    }
   ],
   "source": [
    "# plot the AnimalName counts\n",
    "\n",
    "plt.figure(figsize=(10,10))\n",
    "plt.xticks(rotation=90)\n",
    "sns.countplot(data_animal, x=\"AnimalName\")"
   ]
  },
  {
   "cell_type": "code",
   "execution_count": 10,
   "id": "09a62e96-7c17-4dda-9177-18674de90965",
   "metadata": {},
   "outputs": [
    {
     "data": {
      "text/plain": [
       "Index(['AnimalName', 'symptoms1', 'symptoms2', 'symptoms3', 'symptoms4',\n",
       "       'symptoms5', 'Dangerous'],\n",
       "      dtype='object')"
      ]
     },
     "execution_count": 10,
     "metadata": {},
     "output_type": "execute_result"
    }
   ],
   "source": [
    "## just check the columns in the dataframe\n",
    "data_animal.columns"
   ]
  },
  {
   "cell_type": "code",
   "execution_count": 11,
   "id": "3cdab3b4-4c5d-4a13-b523-11f5d3518090",
   "metadata": {},
   "outputs": [
    {
     "data": {
      "text/html": [
       "<div>\n",
       "<style scoped>\n",
       "    .dataframe tbody tr th:only-of-type {\n",
       "        vertical-align: middle;\n",
       "    }\n",
       "\n",
       "    .dataframe tbody tr th {\n",
       "        vertical-align: top;\n",
       "    }\n",
       "\n",
       "    .dataframe thead th {\n",
       "        text-align: right;\n",
       "    }\n",
       "</style>\n",
       "<table border=\"1\" class=\"dataframe\">\n",
       "  <thead>\n",
       "    <tr style=\"text-align: right;\">\n",
       "      <th></th>\n",
       "      <th>AnimalName</th>\n",
       "      <th>symptoms1</th>\n",
       "      <th>symptoms2</th>\n",
       "      <th>symptoms3</th>\n",
       "      <th>symptoms4</th>\n",
       "      <th>symptoms5</th>\n",
       "      <th>Dangerous</th>\n",
       "    </tr>\n",
       "  </thead>\n",
       "  <tbody>\n",
       "    <tr>\n",
       "      <th>0</th>\n",
       "      <td>Dog</td>\n",
       "      <td>Fever</td>\n",
       "      <td>Diarrhea</td>\n",
       "      <td>Vomiting</td>\n",
       "      <td>Weight loss</td>\n",
       "      <td>Dehydration</td>\n",
       "      <td>Yes</td>\n",
       "    </tr>\n",
       "    <tr>\n",
       "      <th>1</th>\n",
       "      <td>Dog</td>\n",
       "      <td>Fever</td>\n",
       "      <td>Diarrhea</td>\n",
       "      <td>Coughing</td>\n",
       "      <td>Tiredness</td>\n",
       "      <td>Pains</td>\n",
       "      <td>Yes</td>\n",
       "    </tr>\n",
       "  </tbody>\n",
       "</table>\n",
       "</div>"
      ],
      "text/plain": [
       "  AnimalName symptoms1 symptoms2 symptoms3    symptoms4    symptoms5 Dangerous\n",
       "0        Dog     Fever  Diarrhea  Vomiting  Weight loss  Dehydration       Yes\n",
       "1        Dog     Fever  Diarrhea  Coughing    Tiredness        Pains       Yes"
      ]
     },
     "execution_count": 11,
     "metadata": {},
     "output_type": "execute_result"
    }
   ],
   "source": [
    "data_animal.head(2)"
   ]
  },
  {
   "cell_type": "markdown",
   "id": "64b0b413-18a0-428c-b2d3-6d4ec8e56070",
   "metadata": {},
   "source": [
    "##  Intialize the LabelEncoder"
   ]
  },
  {
   "cell_type": "code",
   "execution_count": 12,
   "id": "002d7471-0c12-4e34-87eb-94af26a75a1b",
   "metadata": {},
   "outputs": [],
   "source": [
    "## create the objects for encoding the labels and for the scaling the numerical data\n",
    "labelencoder = LabelEncoder()"
   ]
  },
  {
   "cell_type": "code",
   "execution_count": 13,
   "id": "0e515caf-d3f9-435a-b548-245bca52adb3",
   "metadata": {},
   "outputs": [],
   "source": [
    "data_animal['AnimalName'] = labelencoder.fit_transform(data_animal['AnimalName'])\n",
    "data_animal['symptoms1'] = labelencoder.fit_transform(data_animal['symptoms1'])\n",
    "data_animal['symptoms2'] = labelencoder.fit_transform(data_animal['symptoms2'])\n",
    "data_animal['symptoms3'] = labelencoder.fit_transform(data_animal['symptoms3'])\n",
    "data_animal['symptoms4'] = labelencoder.fit_transform(data_animal['symptoms4'])\n",
    "data_animal['symptoms5'] = labelencoder.fit_transform(data_animal['symptoms5'])\n",
    "data_animal['Dangerous'] = labelencoder.fit_transform(data_animal['Dangerous'])"
   ]
  },
  {
   "cell_type": "markdown",
   "id": "805a907d-4922-4965-bbd2-d595b1ca1bcc",
   "metadata": {},
   "source": [
    "## Correlation Matrix\n",
    "\n",
    "* As all of the columns are categorical correlation matrix does not apply to the data"
   ]
  },
  {
   "cell_type": "code",
   "execution_count": 14,
   "id": "cea30100-7ee6-493b-a4cc-048d65dfbe44",
   "metadata": {
    "scrolled": true
   },
   "outputs": [],
   "source": [
    "# correlation_matrix = data_animal.corr()\n",
    "# fig, ax_ = plt.subplots(figsize=(15, 10))\n",
    "# ax_ = sns.heatmap(correlation_matrix, \n",
    "#                  annot=True,\n",
    "#                  linewidths=0.5,\n",
    "#                  fmt=\".2f\");"
   ]
  },
  {
   "cell_type": "markdown",
   "id": "ce25e302-cf0c-4226-b0f7-69d8e4bb04b7",
   "metadata": {},
   "source": [
    "## Create the X and Y"
   ]
  },
  {
   "cell_type": "code",
   "execution_count": 15,
   "id": "a1814f94-ca2e-4c48-82ba-4a8a65ac669e",
   "metadata": {},
   "outputs": [
    {
     "data": {
      "text/plain": [
       "Dangerous\n",
       "1    849\n",
       "0     20\n",
       "Name: count, dtype: int64"
      ]
     },
     "execution_count": 15,
     "metadata": {},
     "output_type": "execute_result"
    }
   ],
   "source": [
    "# Yes 1, No 0\n",
    "data_animal['Dangerous'].value_counts()"
   ]
  },
  {
   "cell_type": "code",
   "execution_count": 16,
   "id": "5c209b86-fcd4-4530-af7f-91e5698d8677",
   "metadata": {},
   "outputs": [],
   "source": [
    "data_animal_X = data_animal.drop(\"Dangerous\", axis = 1)\n",
    "data_animal_Y = data_animal['Dangerous']"
   ]
  },
  {
   "cell_type": "code",
   "execution_count": 17,
   "id": "6d6776d2-2f59-49ea-b258-012953cb7c17",
   "metadata": {
    "scrolled": true
   },
   "outputs": [
    {
     "data": {
      "text/html": [
       "<div>\n",
       "<style scoped>\n",
       "    .dataframe tbody tr th:only-of-type {\n",
       "        vertical-align: middle;\n",
       "    }\n",
       "\n",
       "    .dataframe tbody tr th {\n",
       "        vertical-align: top;\n",
       "    }\n",
       "\n",
       "    .dataframe thead th {\n",
       "        text-align: right;\n",
       "    }\n",
       "</style>\n",
       "<table border=\"1\" class=\"dataframe\">\n",
       "  <thead>\n",
       "    <tr style=\"text-align: right;\">\n",
       "      <th></th>\n",
       "      <th>AnimalName</th>\n",
       "      <th>symptoms1</th>\n",
       "      <th>symptoms2</th>\n",
       "      <th>symptoms3</th>\n",
       "      <th>symptoms4</th>\n",
       "      <th>symptoms5</th>\n",
       "    </tr>\n",
       "  </thead>\n",
       "  <tbody>\n",
       "    <tr>\n",
       "      <th>0</th>\n",
       "      <td>6</td>\n",
       "      <td>63</td>\n",
       "      <td>30</td>\n",
       "      <td>179</td>\n",
       "      <td>181</td>\n",
       "      <td>32</td>\n",
       "    </tr>\n",
       "    <tr>\n",
       "      <th>1</th>\n",
       "      <td>6</td>\n",
       "      <td>63</td>\n",
       "      <td>30</td>\n",
       "      <td>31</td>\n",
       "      <td>164</td>\n",
       "      <td>113</td>\n",
       "    </tr>\n",
       "    <tr>\n",
       "      <th>2</th>\n",
       "      <td>6</td>\n",
       "      <td>63</td>\n",
       "      <td>30</td>\n",
       "      <td>31</td>\n",
       "      <td>172</td>\n",
       "      <td>8</td>\n",
       "    </tr>\n",
       "    <tr>\n",
       "      <th>3</th>\n",
       "      <td>6</td>\n",
       "      <td>63</td>\n",
       "      <td>33</td>\n",
       "      <td>31</td>\n",
       "      <td>87</td>\n",
       "      <td>142</td>\n",
       "    </tr>\n",
       "    <tr>\n",
       "      <th>4</th>\n",
       "      <td>6</td>\n",
       "      <td>63</td>\n",
       "      <td>30</td>\n",
       "      <td>31</td>\n",
       "      <td>87</td>\n",
       "      <td>21</td>\n",
       "    </tr>\n",
       "  </tbody>\n",
       "</table>\n",
       "</div>"
      ],
      "text/plain": [
       "   AnimalName  symptoms1  symptoms2  symptoms3  symptoms4  symptoms5\n",
       "0           6         63         30        179        181         32\n",
       "1           6         63         30         31        164        113\n",
       "2           6         63         30         31        172          8\n",
       "3           6         63         33         31         87        142\n",
       "4           6         63         30         31         87         21"
      ]
     },
     "execution_count": 17,
     "metadata": {},
     "output_type": "execute_result"
    }
   ],
   "source": [
    "data_animal_X.head()"
   ]
  },
  {
   "cell_type": "markdown",
   "id": "11477095-60cc-414b-a92a-89c80a618ea1",
   "metadata": {},
   "source": [
    "## Train-Test split"
   ]
  },
  {
   "cell_type": "code",
   "execution_count": 18,
   "id": "0a224a0f-b068-4fa8-b895-d6cab5080270",
   "metadata": {},
   "outputs": [],
   "source": [
    "data_x_train, data_x_test, data_y_train, data_y_test = train_test_split(data_animal_X, data_animal_Y, test_size=0.25)"
   ]
  },
  {
   "cell_type": "markdown",
   "id": "5d04127f-d913-4d29-9142-1eb742883ccf",
   "metadata": {},
   "source": [
    "### Model Training using the below algoritms\n",
    "\n",
    "1. Naïve Bayes\n",
    "2. K-Nearest Neighbor (KNN)\n",
    "3. Support Vector Machines (SVM)\n",
    "4. Decision Trees (DT)\n",
    "5. Logistic Regression (Logit)\n"
   ]
  },
  {
   "cell_type": "code",
   "execution_count": 19,
   "id": "9c6cec76-7a28-476a-a7ac-1ddb22022e22",
   "metadata": {},
   "outputs": [],
   "source": [
    "names = [\n",
    "         \"Naive Bayes\", \n",
    "         \"Nearest Neighbors\",\n",
    "         \"SVM\",\n",
    "         \"Decision Tree\", \n",
    "         \"Logistic Regression\",\n",
    "        ]\n",
    "\n",
    "\n",
    "\n",
    "classifiers = [\n",
    "               GaussianNB(),\n",
    "               KNeighborsClassifier(),\n",
    "                SVC(),           \n",
    "                DecisionTreeClassifier(),\n",
    "                LogisticRegression()\n",
    "                          ]"
   ]
  },
  {
   "cell_type": "code",
   "execution_count": 20,
   "id": "cfe7b0f5-c6a5-4ce9-9ab5-05f936315e20",
   "metadata": {},
   "outputs": [
    {
     "name": "stderr",
     "output_type": "stream",
     "text": [
      "5it [00:00, 19.32it/s]"
     ]
    },
    {
     "name": "stdout",
     "output_type": "stream",
     "text": [
      "\n",
      "Naive Bayes :\n",
      "\n",
      "Classification report\n",
      "              precision    recall  f1-score   support\n",
      "\n",
      "           0       0.00      0.00      0.00         8\n",
      "           1       0.96      1.00      0.98       210\n",
      "\n",
      "    accuracy                           0.96       218\n",
      "   macro avg       0.48      0.50      0.49       218\n",
      "weighted avg       0.93      0.96      0.95       218\n",
      "\n",
      "\n",
      "Confusion matrix\n",
      "[[  0   8]\n",
      " [  0 210]] \n",
      "\n",
      "\n",
      "\n",
      "************************************************************\n",
      "\n",
      "Nearest Neighbors :\n",
      "\n",
      "Classification report\n",
      "              precision    recall  f1-score   support\n",
      "\n",
      "           0       0.00      0.00      0.00         8\n",
      "           1       0.96      1.00      0.98       210\n",
      "\n",
      "    accuracy                           0.96       218\n",
      "   macro avg       0.48      0.50      0.49       218\n",
      "weighted avg       0.93      0.96      0.95       218\n",
      "\n",
      "\n",
      "Confusion matrix\n",
      "[[  0   8]\n",
      " [  0 210]] \n",
      "\n",
      "\n",
      "\n",
      "************************************************************\n",
      "\n",
      "SVM :\n",
      "\n",
      "Classification report\n",
      "              precision    recall  f1-score   support\n",
      "\n",
      "           0       0.00      0.00      0.00         8\n",
      "           1       0.96      1.00      0.98       210\n",
      "\n",
      "    accuracy                           0.96       218\n",
      "   macro avg       0.48      0.50      0.49       218\n",
      "weighted avg       0.93      0.96      0.95       218\n",
      "\n",
      "\n",
      "Confusion matrix\n",
      "[[  0   8]\n",
      " [  0 210]] \n",
      "\n",
      "\n",
      "\n",
      "************************************************************\n",
      "\n",
      "Decision Tree :\n",
      "\n",
      "Classification report\n",
      "              precision    recall  f1-score   support\n",
      "\n",
      "           0       0.60      0.38      0.46         8\n",
      "           1       0.98      0.99      0.98       210\n",
      "\n",
      "    accuracy                           0.97       218\n",
      "   macro avg       0.79      0.68      0.72       218\n",
      "weighted avg       0.96      0.97      0.96       218\n",
      "\n",
      "\n",
      "Confusion matrix\n",
      "[[  3   5]\n",
      " [  2 208]] \n",
      "\n",
      "\n",
      "\n",
      "************************************************************\n",
      "\n",
      "Logistic Regression :\n",
      "\n",
      "Classification report\n",
      "              precision    recall  f1-score   support\n",
      "\n",
      "           0       0.00      0.00      0.00         8\n",
      "           1       0.96      1.00      0.98       210\n",
      "\n",
      "    accuracy                           0.96       218\n",
      "   macro avg       0.48      0.50      0.49       218\n",
      "weighted avg       0.93      0.96      0.95       218\n",
      "\n",
      "\n",
      "Confusion matrix\n",
      "[[  0   8]\n",
      " [  0 210]] \n",
      "\n",
      "\n",
      "\n",
      "************************************************************\n"
     ]
    },
    {
     "name": "stderr",
     "output_type": "stream",
     "text": [
      "\n"
     ]
    }
   ],
   "source": [
    "# # Evaluate the model and calculate model accuracy\n",
    "\n",
    "model_dict_desc = {}\n",
    "for name, clf in tqdm(zip(names, classifiers)):\n",
    "    \n",
    "    # traing\n",
    "    clf.fit(data_x_train, data_y_train)\n",
    "    y_pred = clf.predict(data_x_test)\n",
    "    \n",
    " \n",
    "    model_dict_desc[name] = [accuracy_score(data_y_test, y_pred),\n",
    "                             precision_score(data_y_test, y_pred), \n",
    "                             recall_score(data_y_test.values, y_pred),\n",
    "                             f1_score(data_y_test.values, y_pred)]\n",
    "\n",
    "    print(f\"\\n{name} :\")\n",
    "    print(\"\\nClassification report\")\n",
    "    print(classification_report(data_y_test.values, y_pred))\n",
    "    \n",
    "    print(\"\\nConfusion matrix\")\n",
    "    print(confusion_matrix(data_y_test.values, y_pred), \"\\n\\n\\n\")\n",
    "    print('************************************************************')"
   ]
  },
  {
   "cell_type": "code",
   "execution_count": 21,
   "id": "477857da-5da5-4a16-87fb-5439debd1e63",
   "metadata": {},
   "outputs": [
    {
     "data": {
      "text/html": [
       "<div>\n",
       "<style scoped>\n",
       "    .dataframe tbody tr th:only-of-type {\n",
       "        vertical-align: middle;\n",
       "    }\n",
       "\n",
       "    .dataframe tbody tr th {\n",
       "        vertical-align: top;\n",
       "    }\n",
       "\n",
       "    .dataframe thead th {\n",
       "        text-align: right;\n",
       "    }\n",
       "</style>\n",
       "<table border=\"1\" class=\"dataframe\">\n",
       "  <thead>\n",
       "    <tr style=\"text-align: right;\">\n",
       "      <th></th>\n",
       "      <th>accuracy_score</th>\n",
       "      <th>precision_score</th>\n",
       "      <th>recall_score</th>\n",
       "      <th>f1_score</th>\n",
       "    </tr>\n",
       "  </thead>\n",
       "  <tbody>\n",
       "    <tr>\n",
       "      <th>Decision Tree</th>\n",
       "      <td>0.967890</td>\n",
       "      <td>0.976526</td>\n",
       "      <td>0.990476</td>\n",
       "      <td>0.983452</td>\n",
       "    </tr>\n",
       "    <tr>\n",
       "      <th>Naive Bayes</th>\n",
       "      <td>0.963303</td>\n",
       "      <td>0.963303</td>\n",
       "      <td>1.000000</td>\n",
       "      <td>0.981308</td>\n",
       "    </tr>\n",
       "    <tr>\n",
       "      <th>Nearest Neighbors</th>\n",
       "      <td>0.963303</td>\n",
       "      <td>0.963303</td>\n",
       "      <td>1.000000</td>\n",
       "      <td>0.981308</td>\n",
       "    </tr>\n",
       "    <tr>\n",
       "      <th>SVM</th>\n",
       "      <td>0.963303</td>\n",
       "      <td>0.963303</td>\n",
       "      <td>1.000000</td>\n",
       "      <td>0.981308</td>\n",
       "    </tr>\n",
       "    <tr>\n",
       "      <th>Logistic Regression</th>\n",
       "      <td>0.963303</td>\n",
       "      <td>0.963303</td>\n",
       "      <td>1.000000</td>\n",
       "      <td>0.981308</td>\n",
       "    </tr>\n",
       "  </tbody>\n",
       "</table>\n",
       "</div>"
      ],
      "text/plain": [
       "                     accuracy_score  precision_score  recall_score  f1_score\n",
       "Decision Tree              0.967890         0.976526      0.990476  0.983452\n",
       "Naive Bayes                0.963303         0.963303      1.000000  0.981308\n",
       "Nearest Neighbors          0.963303         0.963303      1.000000  0.981308\n",
       "SVM                        0.963303         0.963303      1.000000  0.981308\n",
       "Logistic Regression        0.963303         0.963303      1.000000  0.981308"
      ]
     },
     "execution_count": 21,
     "metadata": {},
     "output_type": "execute_result"
    }
   ],
   "source": [
    "model_df_desc = pd.DataFrame(model_dict_desc, index = ['accuracy_score', 'precision_score', 'recall_score','f1_score']).T\n",
    "model_df_desc = model_df_desc.sort_values(by=['f1_score','recall_score','accuracy_score'], ascending=False)\n",
    "model_df_desc"
   ]
  },
  {
   "cell_type": "markdown",
   "id": "07f8d455-4b8e-4e80-a035-d06f1fbc52ec",
   "metadata": {},
   "source": [
    "## Read from the provided dataset"
   ]
  },
  {
   "cell_type": "code",
   "execution_count": 22,
   "id": "6306ad7d-69a3-495e-93ed-ebafa223b1d8",
   "metadata": {},
   "outputs": [],
   "source": [
    "DATA_PATH='.'\n",
    "data_churn=pd.read_csv(os.path.join(DATA_PATH,\"Churn_Modelling.csv\"))"
   ]
  },
  {
   "cell_type": "code",
   "execution_count": 23,
   "id": "64d92381-9c1c-4f0b-8e1c-f8087f28a92c",
   "metadata": {},
   "outputs": [
    {
     "data": {
      "text/html": [
       "<div>\n",
       "<style scoped>\n",
       "    .dataframe tbody tr th:only-of-type {\n",
       "        vertical-align: middle;\n",
       "    }\n",
       "\n",
       "    .dataframe tbody tr th {\n",
       "        vertical-align: top;\n",
       "    }\n",
       "\n",
       "    .dataframe thead th {\n",
       "        text-align: right;\n",
       "    }\n",
       "</style>\n",
       "<table border=\"1\" class=\"dataframe\">\n",
       "  <thead>\n",
       "    <tr style=\"text-align: right;\">\n",
       "      <th></th>\n",
       "      <th>RowNumber</th>\n",
       "      <th>CustomerId</th>\n",
       "      <th>Surname</th>\n",
       "      <th>CreditScore</th>\n",
       "      <th>Geography</th>\n",
       "      <th>Gender</th>\n",
       "      <th>Age</th>\n",
       "      <th>Tenure</th>\n",
       "      <th>Balance</th>\n",
       "      <th>NumOfProducts</th>\n",
       "      <th>HasCrCard</th>\n",
       "      <th>IsActiveMember</th>\n",
       "      <th>EstimatedSalary</th>\n",
       "      <th>Exited</th>\n",
       "    </tr>\n",
       "  </thead>\n",
       "  <tbody>\n",
       "    <tr>\n",
       "      <th>0</th>\n",
       "      <td>1</td>\n",
       "      <td>15634602</td>\n",
       "      <td>Hargrave</td>\n",
       "      <td>619</td>\n",
       "      <td>France</td>\n",
       "      <td>Female</td>\n",
       "      <td>42</td>\n",
       "      <td>2</td>\n",
       "      <td>0.00</td>\n",
       "      <td>1</td>\n",
       "      <td>1</td>\n",
       "      <td>1</td>\n",
       "      <td>101348.88</td>\n",
       "      <td>1</td>\n",
       "    </tr>\n",
       "    <tr>\n",
       "      <th>1</th>\n",
       "      <td>2</td>\n",
       "      <td>15647311</td>\n",
       "      <td>Hill</td>\n",
       "      <td>608</td>\n",
       "      <td>Spain</td>\n",
       "      <td>Female</td>\n",
       "      <td>41</td>\n",
       "      <td>1</td>\n",
       "      <td>83807.86</td>\n",
       "      <td>1</td>\n",
       "      <td>0</td>\n",
       "      <td>1</td>\n",
       "      <td>112542.58</td>\n",
       "      <td>0</td>\n",
       "    </tr>\n",
       "    <tr>\n",
       "      <th>2</th>\n",
       "      <td>3</td>\n",
       "      <td>15619304</td>\n",
       "      <td>Onio</td>\n",
       "      <td>502</td>\n",
       "      <td>France</td>\n",
       "      <td>Female</td>\n",
       "      <td>42</td>\n",
       "      <td>8</td>\n",
       "      <td>159660.80</td>\n",
       "      <td>3</td>\n",
       "      <td>1</td>\n",
       "      <td>0</td>\n",
       "      <td>113931.57</td>\n",
       "      <td>1</td>\n",
       "    </tr>\n",
       "    <tr>\n",
       "      <th>3</th>\n",
       "      <td>4</td>\n",
       "      <td>15701354</td>\n",
       "      <td>Boni</td>\n",
       "      <td>699</td>\n",
       "      <td>France</td>\n",
       "      <td>Female</td>\n",
       "      <td>39</td>\n",
       "      <td>1</td>\n",
       "      <td>0.00</td>\n",
       "      <td>2</td>\n",
       "      <td>0</td>\n",
       "      <td>0</td>\n",
       "      <td>93826.63</td>\n",
       "      <td>0</td>\n",
       "    </tr>\n",
       "    <tr>\n",
       "      <th>4</th>\n",
       "      <td>5</td>\n",
       "      <td>15737888</td>\n",
       "      <td>Mitchell</td>\n",
       "      <td>850</td>\n",
       "      <td>Spain</td>\n",
       "      <td>Female</td>\n",
       "      <td>43</td>\n",
       "      <td>2</td>\n",
       "      <td>125510.82</td>\n",
       "      <td>1</td>\n",
       "      <td>1</td>\n",
       "      <td>1</td>\n",
       "      <td>79084.10</td>\n",
       "      <td>0</td>\n",
       "    </tr>\n",
       "  </tbody>\n",
       "</table>\n",
       "</div>"
      ],
      "text/plain": [
       "   RowNumber  CustomerId   Surname  CreditScore Geography  Gender  Age   \n",
       "0          1    15634602  Hargrave          619    France  Female   42  \\\n",
       "1          2    15647311      Hill          608     Spain  Female   41   \n",
       "2          3    15619304      Onio          502    France  Female   42   \n",
       "3          4    15701354      Boni          699    France  Female   39   \n",
       "4          5    15737888  Mitchell          850     Spain  Female   43   \n",
       "\n",
       "   Tenure    Balance  NumOfProducts  HasCrCard  IsActiveMember   \n",
       "0       2       0.00              1          1               1  \\\n",
       "1       1   83807.86              1          0               1   \n",
       "2       8  159660.80              3          1               0   \n",
       "3       1       0.00              2          0               0   \n",
       "4       2  125510.82              1          1               1   \n",
       "\n",
       "   EstimatedSalary  Exited  \n",
       "0        101348.88       1  \n",
       "1        112542.58       0  \n",
       "2        113931.57       1  \n",
       "3         93826.63       0  \n",
       "4         79084.10       0  "
      ]
     },
     "execution_count": 23,
     "metadata": {},
     "output_type": "execute_result"
    }
   ],
   "source": [
    "## see the dataset\n",
    "data_churn.head()"
   ]
  },
  {
   "cell_type": "code",
   "execution_count": 24,
   "id": "da8d7f1f-4716-4b48-85f8-1c78eda469b9",
   "metadata": {},
   "outputs": [
    {
     "name": "stdout",
     "output_type": "stream",
     "text": [
      "<class 'pandas.core.frame.DataFrame'>\n",
      "RangeIndex: 10000 entries, 0 to 9999\n",
      "Data columns (total 14 columns):\n",
      " #   Column           Non-Null Count  Dtype  \n",
      "---  ------           --------------  -----  \n",
      " 0   RowNumber        10000 non-null  int64  \n",
      " 1   CustomerId       10000 non-null  int64  \n",
      " 2   Surname          10000 non-null  object \n",
      " 3   CreditScore      10000 non-null  int64  \n",
      " 4   Geography        10000 non-null  object \n",
      " 5   Gender           10000 non-null  object \n",
      " 6   Age              10000 non-null  int64  \n",
      " 7   Tenure           10000 non-null  int64  \n",
      " 8   Balance          10000 non-null  float64\n",
      " 9   NumOfProducts    10000 non-null  int64  \n",
      " 10  HasCrCard        10000 non-null  int64  \n",
      " 11  IsActiveMember   10000 non-null  int64  \n",
      " 12  EstimatedSalary  10000 non-null  float64\n",
      " 13  Exited           10000 non-null  int64  \n",
      "dtypes: float64(2), int64(9), object(3)\n",
      "memory usage: 1.1+ MB\n"
     ]
    }
   ],
   "source": [
    "## get the info\n",
    "data_churn.info()"
   ]
  },
  {
   "cell_type": "code",
   "execution_count": 25,
   "id": "233da6ab-7fbc-4521-9f54-7b10973b9812",
   "metadata": {
    "scrolled": true
   },
   "outputs": [
    {
     "data": {
      "text/html": [
       "<div>\n",
       "<style scoped>\n",
       "    .dataframe tbody tr th:only-of-type {\n",
       "        vertical-align: middle;\n",
       "    }\n",
       "\n",
       "    .dataframe tbody tr th {\n",
       "        vertical-align: top;\n",
       "    }\n",
       "\n",
       "    .dataframe thead th {\n",
       "        text-align: right;\n",
       "    }\n",
       "</style>\n",
       "<table border=\"1\" class=\"dataframe\">\n",
       "  <thead>\n",
       "    <tr style=\"text-align: right;\">\n",
       "      <th></th>\n",
       "      <th>RowNumber</th>\n",
       "      <th>CustomerId</th>\n",
       "      <th>CreditScore</th>\n",
       "      <th>Age</th>\n",
       "      <th>Tenure</th>\n",
       "      <th>Balance</th>\n",
       "      <th>NumOfProducts</th>\n",
       "      <th>HasCrCard</th>\n",
       "      <th>IsActiveMember</th>\n",
       "      <th>EstimatedSalary</th>\n",
       "      <th>Exited</th>\n",
       "    </tr>\n",
       "  </thead>\n",
       "  <tbody>\n",
       "    <tr>\n",
       "      <th>count</th>\n",
       "      <td>10000.00000</td>\n",
       "      <td>1.000000e+04</td>\n",
       "      <td>10000.000000</td>\n",
       "      <td>10000.000000</td>\n",
       "      <td>10000.000000</td>\n",
       "      <td>10000.000000</td>\n",
       "      <td>10000.000000</td>\n",
       "      <td>10000.00000</td>\n",
       "      <td>10000.000000</td>\n",
       "      <td>10000.000000</td>\n",
       "      <td>10000.000000</td>\n",
       "    </tr>\n",
       "    <tr>\n",
       "      <th>mean</th>\n",
       "      <td>5000.50000</td>\n",
       "      <td>1.569094e+07</td>\n",
       "      <td>650.528800</td>\n",
       "      <td>38.921800</td>\n",
       "      <td>5.012800</td>\n",
       "      <td>76485.889288</td>\n",
       "      <td>1.530200</td>\n",
       "      <td>0.70550</td>\n",
       "      <td>0.515100</td>\n",
       "      <td>100090.239881</td>\n",
       "      <td>0.203700</td>\n",
       "    </tr>\n",
       "    <tr>\n",
       "      <th>std</th>\n",
       "      <td>2886.89568</td>\n",
       "      <td>7.193619e+04</td>\n",
       "      <td>96.653299</td>\n",
       "      <td>10.487806</td>\n",
       "      <td>2.892174</td>\n",
       "      <td>62397.405202</td>\n",
       "      <td>0.581654</td>\n",
       "      <td>0.45584</td>\n",
       "      <td>0.499797</td>\n",
       "      <td>57510.492818</td>\n",
       "      <td>0.402769</td>\n",
       "    </tr>\n",
       "    <tr>\n",
       "      <th>min</th>\n",
       "      <td>1.00000</td>\n",
       "      <td>1.556570e+07</td>\n",
       "      <td>350.000000</td>\n",
       "      <td>18.000000</td>\n",
       "      <td>0.000000</td>\n",
       "      <td>0.000000</td>\n",
       "      <td>1.000000</td>\n",
       "      <td>0.00000</td>\n",
       "      <td>0.000000</td>\n",
       "      <td>11.580000</td>\n",
       "      <td>0.000000</td>\n",
       "    </tr>\n",
       "    <tr>\n",
       "      <th>25%</th>\n",
       "      <td>2500.75000</td>\n",
       "      <td>1.562853e+07</td>\n",
       "      <td>584.000000</td>\n",
       "      <td>32.000000</td>\n",
       "      <td>3.000000</td>\n",
       "      <td>0.000000</td>\n",
       "      <td>1.000000</td>\n",
       "      <td>0.00000</td>\n",
       "      <td>0.000000</td>\n",
       "      <td>51002.110000</td>\n",
       "      <td>0.000000</td>\n",
       "    </tr>\n",
       "    <tr>\n",
       "      <th>50%</th>\n",
       "      <td>5000.50000</td>\n",
       "      <td>1.569074e+07</td>\n",
       "      <td>652.000000</td>\n",
       "      <td>37.000000</td>\n",
       "      <td>5.000000</td>\n",
       "      <td>97198.540000</td>\n",
       "      <td>1.000000</td>\n",
       "      <td>1.00000</td>\n",
       "      <td>1.000000</td>\n",
       "      <td>100193.915000</td>\n",
       "      <td>0.000000</td>\n",
       "    </tr>\n",
       "    <tr>\n",
       "      <th>75%</th>\n",
       "      <td>7500.25000</td>\n",
       "      <td>1.575323e+07</td>\n",
       "      <td>718.000000</td>\n",
       "      <td>44.000000</td>\n",
       "      <td>7.000000</td>\n",
       "      <td>127644.240000</td>\n",
       "      <td>2.000000</td>\n",
       "      <td>1.00000</td>\n",
       "      <td>1.000000</td>\n",
       "      <td>149388.247500</td>\n",
       "      <td>0.000000</td>\n",
       "    </tr>\n",
       "    <tr>\n",
       "      <th>max</th>\n",
       "      <td>10000.00000</td>\n",
       "      <td>1.581569e+07</td>\n",
       "      <td>850.000000</td>\n",
       "      <td>92.000000</td>\n",
       "      <td>10.000000</td>\n",
       "      <td>250898.090000</td>\n",
       "      <td>4.000000</td>\n",
       "      <td>1.00000</td>\n",
       "      <td>1.000000</td>\n",
       "      <td>199992.480000</td>\n",
       "      <td>1.000000</td>\n",
       "    </tr>\n",
       "  </tbody>\n",
       "</table>\n",
       "</div>"
      ],
      "text/plain": [
       "         RowNumber    CustomerId   CreditScore           Age        Tenure   \n",
       "count  10000.00000  1.000000e+04  10000.000000  10000.000000  10000.000000  \\\n",
       "mean    5000.50000  1.569094e+07    650.528800     38.921800      5.012800   \n",
       "std     2886.89568  7.193619e+04     96.653299     10.487806      2.892174   \n",
       "min        1.00000  1.556570e+07    350.000000     18.000000      0.000000   \n",
       "25%     2500.75000  1.562853e+07    584.000000     32.000000      3.000000   \n",
       "50%     5000.50000  1.569074e+07    652.000000     37.000000      5.000000   \n",
       "75%     7500.25000  1.575323e+07    718.000000     44.000000      7.000000   \n",
       "max    10000.00000  1.581569e+07    850.000000     92.000000     10.000000   \n",
       "\n",
       "             Balance  NumOfProducts    HasCrCard  IsActiveMember   \n",
       "count   10000.000000   10000.000000  10000.00000    10000.000000  \\\n",
       "mean    76485.889288       1.530200      0.70550        0.515100   \n",
       "std     62397.405202       0.581654      0.45584        0.499797   \n",
       "min         0.000000       1.000000      0.00000        0.000000   \n",
       "25%         0.000000       1.000000      0.00000        0.000000   \n",
       "50%     97198.540000       1.000000      1.00000        1.000000   \n",
       "75%    127644.240000       2.000000      1.00000        1.000000   \n",
       "max    250898.090000       4.000000      1.00000        1.000000   \n",
       "\n",
       "       EstimatedSalary        Exited  \n",
       "count     10000.000000  10000.000000  \n",
       "mean     100090.239881      0.203700  \n",
       "std       57510.492818      0.402769  \n",
       "min          11.580000      0.000000  \n",
       "25%       51002.110000      0.000000  \n",
       "50%      100193.915000      0.000000  \n",
       "75%      149388.247500      0.000000  \n",
       "max      199992.480000      1.000000  "
      ]
     },
     "execution_count": 25,
     "metadata": {},
     "output_type": "execute_result"
    }
   ],
   "source": [
    "## gives the statistics \n",
    "data_churn.describe()"
   ]
  },
  {
   "cell_type": "code",
   "execution_count": 26,
   "id": "d8405feb-75f5-41c1-9273-a1e9398c0f5d",
   "metadata": {},
   "outputs": [
    {
     "data": {
      "text/html": [
       "<div>\n",
       "<style scoped>\n",
       "    .dataframe tbody tr th:only-of-type {\n",
       "        vertical-align: middle;\n",
       "    }\n",
       "\n",
       "    .dataframe tbody tr th {\n",
       "        vertical-align: top;\n",
       "    }\n",
       "\n",
       "    .dataframe thead th {\n",
       "        text-align: right;\n",
       "    }\n",
       "</style>\n",
       "<table border=\"1\" class=\"dataframe\">\n",
       "  <thead>\n",
       "    <tr style=\"text-align: right;\">\n",
       "      <th></th>\n",
       "      <th>Surname</th>\n",
       "      <th>Geography</th>\n",
       "      <th>Gender</th>\n",
       "    </tr>\n",
       "  </thead>\n",
       "  <tbody>\n",
       "    <tr>\n",
       "      <th>count</th>\n",
       "      <td>10000</td>\n",
       "      <td>10000</td>\n",
       "      <td>10000</td>\n",
       "    </tr>\n",
       "    <tr>\n",
       "      <th>unique</th>\n",
       "      <td>2932</td>\n",
       "      <td>3</td>\n",
       "      <td>2</td>\n",
       "    </tr>\n",
       "    <tr>\n",
       "      <th>top</th>\n",
       "      <td>Smith</td>\n",
       "      <td>France</td>\n",
       "      <td>Male</td>\n",
       "    </tr>\n",
       "    <tr>\n",
       "      <th>freq</th>\n",
       "      <td>32</td>\n",
       "      <td>5014</td>\n",
       "      <td>5457</td>\n",
       "    </tr>\n",
       "  </tbody>\n",
       "</table>\n",
       "</div>"
      ],
      "text/plain": [
       "       Surname Geography Gender\n",
       "count    10000     10000  10000\n",
       "unique    2932         3      2\n",
       "top      Smith    France   Male\n",
       "freq        32      5014   5457"
      ]
     },
     "execution_count": 26,
     "metadata": {},
     "output_type": "execute_result"
    }
   ],
   "source": [
    "## gives the statistics \n",
    "data_churn.describe(include=['O'])"
   ]
  },
  {
   "cell_type": "code",
   "execution_count": 27,
   "id": "37f506bf-64df-46fa-a8b1-fc3ea04497c3",
   "metadata": {},
   "outputs": [
    {
     "data": {
      "text/html": [
       "<div>\n",
       "<style scoped>\n",
       "    .dataframe tbody tr th:only-of-type {\n",
       "        vertical-align: middle;\n",
       "    }\n",
       "\n",
       "    .dataframe tbody tr th {\n",
       "        vertical-align: top;\n",
       "    }\n",
       "\n",
       "    .dataframe thead th {\n",
       "        text-align: right;\n",
       "    }\n",
       "</style>\n",
       "<table border=\"1\" class=\"dataframe\">\n",
       "  <thead>\n",
       "    <tr style=\"text-align: right;\">\n",
       "      <th></th>\n",
       "      <th></th>\n",
       "      <th>Age</th>\n",
       "    </tr>\n",
       "    <tr>\n",
       "      <th>Exited</th>\n",
       "      <th>Gender</th>\n",
       "      <th></th>\n",
       "    </tr>\n",
       "  </thead>\n",
       "  <tbody>\n",
       "    <tr>\n",
       "      <th rowspan=\"2\" valign=\"top\">0</th>\n",
       "      <th>Female</th>\n",
       "      <td>37.382491</td>\n",
       "    </tr>\n",
       "    <tr>\n",
       "      <th>Male</th>\n",
       "      <td>37.427725</td>\n",
       "    </tr>\n",
       "    <tr>\n",
       "      <th rowspan=\"2\" valign=\"top\">1</th>\n",
       "      <th>Female</th>\n",
       "      <td>44.784899</td>\n",
       "    </tr>\n",
       "    <tr>\n",
       "      <th>Male</th>\n",
       "      <td>44.905345</td>\n",
       "    </tr>\n",
       "  </tbody>\n",
       "</table>\n",
       "</div>"
      ],
      "text/plain": [
       "                     Age\n",
       "Exited Gender           \n",
       "0      Female  37.382491\n",
       "       Male    37.427725\n",
       "1      Female  44.784899\n",
       "       Male    44.905345"
      ]
     },
     "execution_count": 27,
     "metadata": {},
     "output_type": "execute_result"
    }
   ],
   "source": [
    "data_churn.groupby([\"Exited\", \"Gender\"]).agg({\"Age\": \"mean\"})"
   ]
  },
  {
   "cell_type": "code",
   "execution_count": 28,
   "id": "dc412789-4d1d-41a0-928c-55ba63f66ca7",
   "metadata": {},
   "outputs": [
    {
     "data": {
      "text/html": [
       "<div>\n",
       "<style scoped>\n",
       "    .dataframe tbody tr th:only-of-type {\n",
       "        vertical-align: middle;\n",
       "    }\n",
       "\n",
       "    .dataframe tbody tr th {\n",
       "        vertical-align: top;\n",
       "    }\n",
       "\n",
       "    .dataframe thead th {\n",
       "        text-align: right;\n",
       "    }\n",
       "</style>\n",
       "<table border=\"1\" class=\"dataframe\">\n",
       "  <thead>\n",
       "    <tr style=\"text-align: right;\">\n",
       "      <th></th>\n",
       "      <th></th>\n",
       "      <th>Tenure</th>\n",
       "    </tr>\n",
       "    <tr>\n",
       "      <th>Exited</th>\n",
       "      <th>Gender</th>\n",
       "      <th></th>\n",
       "    </tr>\n",
       "  </thead>\n",
       "  <tbody>\n",
       "    <tr>\n",
       "      <th rowspan=\"2\" valign=\"top\">0</th>\n",
       "      <th>Female</th>\n",
       "      <td>4.977086</td>\n",
       "    </tr>\n",
       "    <tr>\n",
       "      <th>Male</th>\n",
       "      <td>5.075236</td>\n",
       "    </tr>\n",
       "    <tr>\n",
       "      <th rowspan=\"2\" valign=\"top\">1</th>\n",
       "      <th>Female</th>\n",
       "      <td>4.933275</td>\n",
       "    </tr>\n",
       "    <tr>\n",
       "      <th>Male</th>\n",
       "      <td>4.932071</td>\n",
       "    </tr>\n",
       "  </tbody>\n",
       "</table>\n",
       "</div>"
      ],
      "text/plain": [
       "                 Tenure\n",
       "Exited Gender          \n",
       "0      Female  4.977086\n",
       "       Male    5.075236\n",
       "1      Female  4.933275\n",
       "       Male    4.932071"
      ]
     },
     "execution_count": 28,
     "metadata": {},
     "output_type": "execute_result"
    }
   ],
   "source": [
    "data_churn.groupby([\"Exited\", \"Gender\"]).agg({\"Tenure\": \"mean\"})"
   ]
  },
  {
   "cell_type": "code",
   "execution_count": 29,
   "id": "e660dc75-01ac-4d64-817e-33bebf2084ee",
   "metadata": {},
   "outputs": [
    {
     "data": {
      "text/html": [
       "<div>\n",
       "<style scoped>\n",
       "    .dataframe tbody tr th:only-of-type {\n",
       "        vertical-align: middle;\n",
       "    }\n",
       "\n",
       "    .dataframe tbody tr th {\n",
       "        vertical-align: top;\n",
       "    }\n",
       "\n",
       "    .dataframe thead th {\n",
       "        text-align: right;\n",
       "    }\n",
       "</style>\n",
       "<table border=\"1\" class=\"dataframe\">\n",
       "  <thead>\n",
       "    <tr style=\"text-align: right;\">\n",
       "      <th></th>\n",
       "      <th></th>\n",
       "      <th>Balance</th>\n",
       "    </tr>\n",
       "    <tr>\n",
       "      <th>Exited</th>\n",
       "      <th>Gender</th>\n",
       "      <th></th>\n",
       "    </tr>\n",
       "  </thead>\n",
       "  <tbody>\n",
       "    <tr>\n",
       "      <th rowspan=\"2\" valign=\"top\">0</th>\n",
       "      <th>Female</th>\n",
       "      <td>71183.249639</td>\n",
       "    </tr>\n",
       "    <tr>\n",
       "      <th>Male</th>\n",
       "      <td>73911.607037</td>\n",
       "    </tr>\n",
       "    <tr>\n",
       "      <th rowspan=\"2\" valign=\"top\">1</th>\n",
       "      <th>Female</th>\n",
       "      <td>89036.639359</td>\n",
       "    </tr>\n",
       "    <tr>\n",
       "      <th>Male</th>\n",
       "      <td>93736.483742</td>\n",
       "    </tr>\n",
       "  </tbody>\n",
       "</table>\n",
       "</div>"
      ],
      "text/plain": [
       "                    Balance\n",
       "Exited Gender              \n",
       "0      Female  71183.249639\n",
       "       Male    73911.607037\n",
       "1      Female  89036.639359\n",
       "       Male    93736.483742"
      ]
     },
     "execution_count": 29,
     "metadata": {},
     "output_type": "execute_result"
    }
   ],
   "source": [
    "data_churn.groupby([\"Exited\", \"Gender\"]).agg({\"Balance\": \"mean\"})"
   ]
  },
  {
   "cell_type": "code",
   "execution_count": 30,
   "id": "d77b9979-5961-47ce-9a33-83d71661c93e",
   "metadata": {},
   "outputs": [
    {
     "data": {
      "text/html": [
       "<div>\n",
       "<style scoped>\n",
       "    .dataframe tbody tr th:only-of-type {\n",
       "        vertical-align: middle;\n",
       "    }\n",
       "\n",
       "    .dataframe tbody tr th {\n",
       "        vertical-align: top;\n",
       "    }\n",
       "\n",
       "    .dataframe thead th {\n",
       "        text-align: right;\n",
       "    }\n",
       "</style>\n",
       "<table border=\"1\" class=\"dataframe\">\n",
       "  <thead>\n",
       "    <tr style=\"text-align: right;\">\n",
       "      <th></th>\n",
       "      <th></th>\n",
       "      <th>EstimatedSalary</th>\n",
       "    </tr>\n",
       "    <tr>\n",
       "      <th>Exited</th>\n",
       "      <th>Gender</th>\n",
       "      <th></th>\n",
       "    </tr>\n",
       "  </thead>\n",
       "  <tbody>\n",
       "    <tr>\n",
       "      <th rowspan=\"2\" valign=\"top\">0</th>\n",
       "      <th>Female</th>\n",
       "      <td>99816.071486</td>\n",
       "    </tr>\n",
       "    <tr>\n",
       "      <th>Male</th>\n",
       "      <td>99680.391827</td>\n",
       "    </tr>\n",
       "    <tr>\n",
       "      <th rowspan=\"2\" valign=\"top\">1</th>\n",
       "      <th>Female</th>\n",
       "      <td>102948.986093</td>\n",
       "    </tr>\n",
       "    <tr>\n",
       "      <th>Male</th>\n",
       "      <td>99584.287272</td>\n",
       "    </tr>\n",
       "  </tbody>\n",
       "</table>\n",
       "</div>"
      ],
      "text/plain": [
       "               EstimatedSalary\n",
       "Exited Gender                 \n",
       "0      Female     99816.071486\n",
       "       Male       99680.391827\n",
       "1      Female    102948.986093\n",
       "       Male       99584.287272"
      ]
     },
     "execution_count": 30,
     "metadata": {},
     "output_type": "execute_result"
    }
   ],
   "source": [
    "data_churn.groupby([\"Exited\", \"Gender\"]).agg({\"EstimatedSalary\": \"mean\"})"
   ]
  },
  {
   "cell_type": "code",
   "execution_count": 31,
   "id": "193bead2-b74d-446a-b5d8-a1312ff33ae3",
   "metadata": {},
   "outputs": [
    {
     "data": {
      "text/html": [
       "<div>\n",
       "<style scoped>\n",
       "    .dataframe tbody tr th:only-of-type {\n",
       "        vertical-align: middle;\n",
       "    }\n",
       "\n",
       "    .dataframe tbody tr th {\n",
       "        vertical-align: top;\n",
       "    }\n",
       "\n",
       "    .dataframe thead th {\n",
       "        text-align: right;\n",
       "    }\n",
       "</style>\n",
       "<table border=\"1\" class=\"dataframe\">\n",
       "  <thead>\n",
       "    <tr style=\"text-align: right;\">\n",
       "      <th></th>\n",
       "      <th>Age</th>\n",
       "    </tr>\n",
       "    <tr>\n",
       "      <th>Gender</th>\n",
       "      <th></th>\n",
       "    </tr>\n",
       "  </thead>\n",
       "  <tbody>\n",
       "    <tr>\n",
       "      <th>Female</th>\n",
       "      <td>39.238389</td>\n",
       "    </tr>\n",
       "    <tr>\n",
       "      <th>Male</th>\n",
       "      <td>38.658237</td>\n",
       "    </tr>\n",
       "  </tbody>\n",
       "</table>\n",
       "</div>"
      ],
      "text/plain": [
       "              Age\n",
       "Gender           \n",
       "Female  39.238389\n",
       "Male    38.658237"
      ]
     },
     "execution_count": 31,
     "metadata": {},
     "output_type": "execute_result"
    }
   ],
   "source": [
    "data_churn.groupby(\"Gender\").agg({\"Age\": \"mean\"})"
   ]
  },
  {
   "cell_type": "code",
   "execution_count": 32,
   "id": "8e1c95c3-35ec-4931-b6cb-ea570ac874e1",
   "metadata": {},
   "outputs": [
    {
     "data": {
      "text/html": [
       "<div>\n",
       "<style scoped>\n",
       "    .dataframe tbody tr th:only-of-type {\n",
       "        vertical-align: middle;\n",
       "    }\n",
       "\n",
       "    .dataframe tbody tr th {\n",
       "        vertical-align: top;\n",
       "    }\n",
       "\n",
       "    .dataframe thead th {\n",
       "        text-align: right;\n",
       "    }\n",
       "</style>\n",
       "<table border=\"1\" class=\"dataframe\">\n",
       "  <thead>\n",
       "    <tr style=\"text-align: right;\">\n",
       "      <th></th>\n",
       "      <th>Exited</th>\n",
       "    </tr>\n",
       "    <tr>\n",
       "      <th>Geography</th>\n",
       "      <th></th>\n",
       "    </tr>\n",
       "  </thead>\n",
       "  <tbody>\n",
       "    <tr>\n",
       "      <th>France</th>\n",
       "      <td>0.161548</td>\n",
       "    </tr>\n",
       "    <tr>\n",
       "      <th>Germany</th>\n",
       "      <td>0.324432</td>\n",
       "    </tr>\n",
       "    <tr>\n",
       "      <th>Spain</th>\n",
       "      <td>0.166734</td>\n",
       "    </tr>\n",
       "  </tbody>\n",
       "</table>\n",
       "</div>"
      ],
      "text/plain": [
       "             Exited\n",
       "Geography          \n",
       "France     0.161548\n",
       "Germany    0.324432\n",
       "Spain      0.166734"
      ]
     },
     "execution_count": 32,
     "metadata": {},
     "output_type": "execute_result"
    }
   ],
   "source": [
    "data_churn.groupby(\"Geography\").agg({\"Exited\": \"mean\"})"
   ]
  },
  {
   "cell_type": "code",
   "execution_count": 33,
   "id": "b1c380b8-e037-4fdb-9a13-3664e3ed53a6",
   "metadata": {},
   "outputs": [
    {
     "data": {
      "image/png": "[encoded data removed]",
      "text/plain": [
       "<Figure size 640x480 with 1 Axes>"
      ]
     },
     "metadata": {},
     "output_type": "display_data"
    }
   ],
   "source": [
    "sns.countplot(x='Exited', data=data_churn,palette='Set2')\n",
    "plt.show()"
   ]
  },
  {
   "cell_type": "code",
   "execution_count": null,
   "id": "de657367-ef4b-46c4-a9c5-35d350ad45bc",
   "metadata": {},
   "outputs": [],
   "source": []
  },
  {
   "cell_type": "markdown",
   "id": "3dc40461-06f4-4aea-8aa9-9a9e4ec01f61",
   "metadata": {},
   "source": [
    "## check nan values"
   ]
  },
  {
   "cell_type": "code",
   "execution_count": 34,
   "id": "75bd202f-3293-4a41-9b4c-cd5759760cbd",
   "metadata": {},
   "outputs": [
    {
     "data": {
      "text/plain": [
       "RowNumber          False\n",
       "CustomerId         False\n",
       "Surname            False\n",
       "CreditScore        False\n",
       "Geography          False\n",
       "Gender             False\n",
       "Age                False\n",
       "Tenure             False\n",
       "Balance            False\n",
       "NumOfProducts      False\n",
       "HasCrCard          False\n",
       "IsActiveMember     False\n",
       "EstimatedSalary    False\n",
       "Exited             False\n",
       "dtype: bool"
      ]
     },
     "execution_count": 34,
     "metadata": {},
     "output_type": "execute_result"
    }
   ],
   "source": [
    "## we see that Dangerous column has nan values\n",
    "data_churn.isna().any()"
   ]
  },
  {
   "cell_type": "markdown",
   "id": "c33de727-85b2-43cf-a803-4b93a31a0dee",
   "metadata": {},
   "source": [
    "## Feature selection\n",
    "\n",
    "* As these columns are not required to build the model we will drop the column RowNumber,CustomerId,Surname"
   ]
  },
  {
   "cell_type": "code",
   "execution_count": 35,
   "id": "9026dcdf-5a66-4f71-a4d9-3a7f64ee5b37",
   "metadata": {},
   "outputs": [],
   "source": [
    "data_churn.drop(\"RowNumber\",axis = 1,inplace=True)\n",
    "data_churn.drop(\"CustomerId\",axis = 1,inplace=True)\n",
    "data_churn.drop(\"Surname\",axis = 1,inplace=True)"
   ]
  },
  {
   "cell_type": "code",
   "execution_count": 36,
   "id": "55745724-7ec5-4d2b-84b8-1fa817ad263d",
   "metadata": {},
   "outputs": [
    {
     "data": {
      "text/html": [
       "<div>\n",
       "<style scoped>\n",
       "    .dataframe tbody tr th:only-of-type {\n",
       "        vertical-align: middle;\n",
       "    }\n",
       "\n",
       "    .dataframe tbody tr th {\n",
       "        vertical-align: top;\n",
       "    }\n",
       "\n",
       "    .dataframe thead th {\n",
       "        text-align: right;\n",
       "    }\n",
       "</style>\n",
       "<table border=\"1\" class=\"dataframe\">\n",
       "  <thead>\n",
       "    <tr style=\"text-align: right;\">\n",
       "      <th></th>\n",
       "      <th>CreditScore</th>\n",
       "      <th>Geography</th>\n",
       "      <th>Gender</th>\n",
       "      <th>Age</th>\n",
       "      <th>Tenure</th>\n",
       "      <th>Balance</th>\n",
       "      <th>NumOfProducts</th>\n",
       "      <th>HasCrCard</th>\n",
       "      <th>IsActiveMember</th>\n",
       "      <th>EstimatedSalary</th>\n",
       "      <th>Exited</th>\n",
       "    </tr>\n",
       "  </thead>\n",
       "  <tbody>\n",
       "    <tr>\n",
       "      <th>0</th>\n",
       "      <td>619</td>\n",
       "      <td>France</td>\n",
       "      <td>Female</td>\n",
       "      <td>42</td>\n",
       "      <td>2</td>\n",
       "      <td>0.00</td>\n",
       "      <td>1</td>\n",
       "      <td>1</td>\n",
       "      <td>1</td>\n",
       "      <td>101348.88</td>\n",
       "      <td>1</td>\n",
       "    </tr>\n",
       "    <tr>\n",
       "      <th>1</th>\n",
       "      <td>608</td>\n",
       "      <td>Spain</td>\n",
       "      <td>Female</td>\n",
       "      <td>41</td>\n",
       "      <td>1</td>\n",
       "      <td>83807.86</td>\n",
       "      <td>1</td>\n",
       "      <td>0</td>\n",
       "      <td>1</td>\n",
       "      <td>112542.58</td>\n",
       "      <td>0</td>\n",
       "    </tr>\n",
       "    <tr>\n",
       "      <th>2</th>\n",
       "      <td>502</td>\n",
       "      <td>France</td>\n",
       "      <td>Female</td>\n",
       "      <td>42</td>\n",
       "      <td>8</td>\n",
       "      <td>159660.80</td>\n",
       "      <td>3</td>\n",
       "      <td>1</td>\n",
       "      <td>0</td>\n",
       "      <td>113931.57</td>\n",
       "      <td>1</td>\n",
       "    </tr>\n",
       "    <tr>\n",
       "      <th>3</th>\n",
       "      <td>699</td>\n",
       "      <td>France</td>\n",
       "      <td>Female</td>\n",
       "      <td>39</td>\n",
       "      <td>1</td>\n",
       "      <td>0.00</td>\n",
       "      <td>2</td>\n",
       "      <td>0</td>\n",
       "      <td>0</td>\n",
       "      <td>93826.63</td>\n",
       "      <td>0</td>\n",
       "    </tr>\n",
       "    <tr>\n",
       "      <th>4</th>\n",
       "      <td>850</td>\n",
       "      <td>Spain</td>\n",
       "      <td>Female</td>\n",
       "      <td>43</td>\n",
       "      <td>2</td>\n",
       "      <td>125510.82</td>\n",
       "      <td>1</td>\n",
       "      <td>1</td>\n",
       "      <td>1</td>\n",
       "      <td>79084.10</td>\n",
       "      <td>0</td>\n",
       "    </tr>\n",
       "  </tbody>\n",
       "</table>\n",
       "</div>"
      ],
      "text/plain": [
       "   CreditScore Geography  Gender  Age  Tenure    Balance  NumOfProducts   \n",
       "0          619    France  Female   42       2       0.00              1  \\\n",
       "1          608     Spain  Female   41       1   83807.86              1   \n",
       "2          502    France  Female   42       8  159660.80              3   \n",
       "3          699    France  Female   39       1       0.00              2   \n",
       "4          850     Spain  Female   43       2  125510.82              1   \n",
       "\n",
       "   HasCrCard  IsActiveMember  EstimatedSalary  Exited  \n",
       "0          1               1        101348.88       1  \n",
       "1          0               1        112542.58       0  \n",
       "2          1               0        113931.57       1  \n",
       "3          0               0         93826.63       0  \n",
       "4          1               1         79084.10       0  "
      ]
     },
     "execution_count": 36,
     "metadata": {},
     "output_type": "execute_result"
    }
   ],
   "source": [
    "data_churn.head()"
   ]
  },
  {
   "cell_type": "markdown",
   "id": "5bc87211-198b-4906-82ec-8acc65cd352a",
   "metadata": {},
   "source": [
    "## correlation matrix"
   ]
  },
  {
   "cell_type": "code",
   "execution_count": 37,
   "id": "8da6edb5-cd84-48f7-b059-e743a6024aa5",
   "metadata": {},
   "outputs": [
    {
     "data": {
      "image/png": "[encoded data removed]",
      "text/plain": [
       "<Figure size 1500x1000 with 2 Axes>"
      ]
     },
     "metadata": {},
     "output_type": "display_data"
    }
   ],
   "source": [
    "numerical_columns = ['CreditScore','Age','Tenure','Balance','NumOfProducts','EstimatedSalary']\n",
    "correlation_matrix = data_churn[numerical_columns].corr()\n",
    "fig, ax_ = plt.subplots(figsize=(15, 10))\n",
    "ax_ = sns.heatmap(correlation_matrix, \n",
    "                 annot=True,\n",
    "                 linewidths=0.5,\n",
    "                 fmt=\".2f\");"
   ]
  },
  {
   "cell_type": "code",
   "execution_count": 38,
   "id": "1575baaa-5e79-418b-8091-3205384e41f7",
   "metadata": {},
   "outputs": [
    {
     "data": {
      "image/png": "[encoded data removed]",
      "text/plain": [
       "<Figure size 2000x1200 with 4 Axes>"
      ]
     },
     "metadata": {},
     "output_type": "display_data"
    }
   ],
   "source": [
    "\n",
    "features = ['Geography', 'Gender', 'HasCrCard', 'IsActiveMember']\n",
    "fig, axarr = plt.subplots(2, 2, figsize=(20, 12))\n",
    "\n",
    "for i, feature in enumerate(features):\n",
    "    sns.countplot(x=feature, hue='Exited', data=data_churn, ax=axarr[i//2][i%2])\n",
    "\n",
    "plt.tight_layout()\n",
    "plt.show()\n"
   ]
  },
  {
   "cell_type": "markdown",
   "id": "ccdb2f37-3e8f-4624-b12f-333f760a1552",
   "metadata": {},
   "source": [
    "### Onehot encoding for Geography column"
   ]
  },
  {
   "cell_type": "code",
   "execution_count": 39,
   "id": "21c68e17-b298-4fd5-a985-afa0965617d8",
   "metadata": {},
   "outputs": [],
   "source": [
    "data_churn = pd.get_dummies(data_churn, columns=['Geography'], dtype=int)"
   ]
  },
  {
   "cell_type": "code",
   "execution_count": 40,
   "id": "dafcd6db-5f99-40eb-bff9-8d3cf1b934a8",
   "metadata": {},
   "outputs": [
    {
     "data": {
      "text/plain": [
       "Gender\n",
       "Male      5457\n",
       "Female    4543\n",
       "Name: count, dtype: int64"
      ]
     },
     "execution_count": 40,
     "metadata": {},
     "output_type": "execute_result"
    }
   ],
   "source": [
    "data_churn['Gender'].value_counts()"
   ]
  },
  {
   "cell_type": "markdown",
   "id": "3395b50b-ea9f-4ef9-917a-942c600ac020",
   "metadata": {},
   "source": [
    "## Intialize the labelencoder"
   ]
  },
  {
   "cell_type": "code",
   "execution_count": 41,
   "id": "1a48ad4b-c9d3-4821-b4cf-36a44ed95e90",
   "metadata": {},
   "outputs": [],
   "source": [
    "## create the objects for encoding the labels and for the scaling the numerical data\n",
    "labelencoder_datachurn = LabelEncoder()"
   ]
  },
  {
   "cell_type": "code",
   "execution_count": 42,
   "id": "a3fd890e-8c9e-40ce-b748-1d0035fd4d4b",
   "metadata": {},
   "outputs": [],
   "source": [
    "data_churn['Gender'] = labelencoder_datachurn.fit_transform(data_churn['Gender'])"
   ]
  },
  {
   "cell_type": "code",
   "execution_count": 43,
   "id": "83a07cce-970b-4bd2-a489-76266ef3c28d",
   "metadata": {},
   "outputs": [
    {
     "data": {
      "text/plain": [
       "Gender\n",
       "1    5457\n",
       "0    4543\n",
       "Name: count, dtype: int64"
      ]
     },
     "execution_count": 43,
     "metadata": {},
     "output_type": "execute_result"
    }
   ],
   "source": [
    "# Male 1, Female 0\n",
    "data_churn['Gender'].value_counts()"
   ]
  },
  {
   "cell_type": "markdown",
   "id": "aebbe7a7-ea84-4007-a701-c76ca3d3faa0",
   "metadata": {},
   "source": [
    "## create X and Y"
   ]
  },
  {
   "cell_type": "code",
   "execution_count": 44,
   "id": "a11b88a1-41ab-43a2-b56e-60ce462755a7",
   "metadata": {},
   "outputs": [],
   "source": [
    "data_churn_X=data_churn.drop(\"Exited\",axis = 1)\n",
    "data_churn_Y=data_churn[\"Exited\"]"
   ]
  },
  {
   "cell_type": "code",
   "execution_count": 56,
   "id": "38d9e5b4-3aee-4295-9676-ee0e69e828ef",
   "metadata": {},
   "outputs": [
    {
     "data": {
      "text/plain": [
       "Exited\n",
       "0    7963\n",
       "1    2037\n",
       "Name: count, dtype: int64"
      ]
     },
     "execution_count": 56,
     "metadata": {},
     "output_type": "execute_result"
    }
   ],
   "source": [
    "data_churn[\"Exited\"].value_counts()"
   ]
  },
  {
   "cell_type": "markdown",
   "id": "bac5267d-7186-49da-b742-48b4ad7f3e27",
   "metadata": {},
   "source": [
    "## Intialize MinMax scaler and convert the value scale of the columns"
   ]
  },
  {
   "cell_type": "code",
   "execution_count": 45,
   "id": "77369be3-b1b7-433f-b6ae-b3babfb9fe54",
   "metadata": {},
   "outputs": [],
   "source": [
    "min_maxscaler_datachurn = MinMaxScaler()\n",
    "data_churn_X['CreditScore'] =  min_maxscaler_datachurn.fit_transform(data_churn_X[['CreditScore']])\n",
    "data_churn_X['Age'] =  min_maxscaler_datachurn.fit_transform(data_churn_X[['Age']])\n",
    "data_churn_X['Tenure'] =  min_maxscaler_datachurn.fit_transform(data_churn_X[['Tenure']])\n",
    "data_churn_X['Balance'] =  min_maxscaler_datachurn.fit_transform(data_churn_X[['Balance']])\n",
    "data_churn_X['NumOfProducts'] =  min_maxscaler_datachurn.fit_transform(data_churn_X[['NumOfProducts']])\n",
    "data_churn_X['EstimatedSalary'] =  min_maxscaler_datachurn.fit_transform(data_churn_X[['EstimatedSalary']])"
   ]
  },
  {
   "cell_type": "markdown",
   "id": "97b5089f-a721-424f-a0b5-e98913a9d69e",
   "metadata": {},
   "source": [
    "## Train-Test Split"
   ]
  },
  {
   "cell_type": "code",
   "execution_count": 46,
   "id": "fb0071b2-e9db-430f-9ceb-9b5ba2507d4e",
   "metadata": {},
   "outputs": [],
   "source": [
    "X_train, X_test, y_train,y_test = train_test_split(data_churn_X, data_churn_Y, test_size=0.25)"
   ]
  },
  {
   "cell_type": "code",
   "execution_count": 47,
   "id": "1473af7f-fbd0-4416-b808-cd43185ab978",
   "metadata": {},
   "outputs": [
    {
     "name": "stdout",
     "output_type": "stream",
     "text": [
      "(7500, 12) (2500, 12) (7500,) (2500,)\n"
     ]
    }
   ],
   "source": [
    "print(X_train.shape, X_test.shape, y_train.shape, y_test.shape)"
   ]
  },
  {
   "cell_type": "markdown",
   "id": "9e58e356-e72b-471a-86f4-1b5eec27111c",
   "metadata": {},
   "source": [
    "### Model Training using the below algoritms\n",
    "\n",
    "1. Naïve Bayes\n",
    "2. K-Nearest Neighbor (KNN)\n",
    "3. Support Vector Machines (SVM)\n",
    "4. Decision Trees (DT)\n",
    "5. Logistic Regression (Logit)\n"
   ]
  },
  {
   "cell_type": "code",
   "execution_count": 48,
   "id": "e1af7e37-f536-4fb7-96f2-dbb752de36ff",
   "metadata": {},
   "outputs": [],
   "source": [
    "names = [\n",
    "         \"Naive Bayes\", \n",
    "         \"Nearest Neighbors\",\n",
    "         \"SVM\",\n",
    "         \"Linear SVM\",\n",
    "         \"Decision Tree\", \n",
    "         \"Logistic Regression\",\n",
    "        ]\n",
    "\n",
    "\n",
    "\n",
    "classifiers = [\n",
    "               GaussianNB(),\n",
    "               KNeighborsClassifier(),\n",
    "                SVC(),   \n",
    "                LinearSVC(),\n",
    "                DecisionTreeClassifier(),\n",
    "                LogisticRegression()\n",
    "                          ]"
   ]
  },
  {
   "cell_type": "code",
   "execution_count": 49,
   "id": "3b4ced83-3561-4472-b830-41e4b9e110d4",
   "metadata": {},
   "outputs": [
    {
     "name": "stderr",
     "output_type": "stream",
     "text": [
      "1it [00:00,  8.92it/s]"
     ]
    },
    {
     "name": "stdout",
     "output_type": "stream",
     "text": [
      "\n",
      "Naive Bayes :\n",
      "\n",
      "Classification report\n",
      "              precision    recall  f1-score   support\n",
      "\n",
      "           0       0.85      0.94      0.89      1989\n",
      "           1       0.62      0.36      0.46       511\n",
      "\n",
      "    accuracy                           0.82      2500\n",
      "   macro avg       0.73      0.65      0.68      2500\n",
      "weighted avg       0.80      0.82      0.81      2500\n",
      "\n",
      "\n",
      "Confusion matrix\n",
      "[[1873  116]\n",
      " [ 325  186]] \n",
      "\n",
      "\n",
      "\n",
      "************************************************************\n"
     ]
    },
    {
     "name": "stderr",
     "output_type": "stream",
     "text": [
      "2it [00:00,  3.74it/s]"
     ]
    },
    {
     "name": "stdout",
     "output_type": "stream",
     "text": [
      "\n",
      "Nearest Neighbors :\n",
      "\n",
      "Classification report\n",
      "              precision    recall  f1-score   support\n",
      "\n",
      "           0       0.85      0.94      0.89      1989\n",
      "           1       0.61      0.34      0.43       511\n",
      "\n",
      "    accuracy                           0.82      2500\n",
      "   macro avg       0.73      0.64      0.66      2500\n",
      "weighted avg       0.80      0.82      0.80      2500\n",
      "\n",
      "\n",
      "Confusion matrix\n",
      "[[1879  110]\n",
      " [ 339  172]] \n",
      "\n",
      "\n",
      "\n",
      "************************************************************\n"
     ]
    },
    {
     "name": "stderr",
     "output_type": "stream",
     "text": [
      "4it [00:03,  1.19it/s]"
     ]
    },
    {
     "name": "stdout",
     "output_type": "stream",
     "text": [
      "\n",
      "SVM :\n",
      "\n",
      "Classification report\n",
      "              precision    recall  f1-score   support\n",
      "\n",
      "           0       0.84      0.99      0.91      1989\n",
      "           1       0.84      0.26      0.40       511\n",
      "\n",
      "    accuracy                           0.84      2500\n",
      "   macro avg       0.84      0.63      0.65      2500\n",
      "weighted avg       0.84      0.84      0.80      2500\n",
      "\n",
      "\n",
      "Confusion matrix\n",
      "[[1964   25]\n",
      " [ 376  135]] \n",
      "\n",
      "\n",
      "\n",
      "************************************************************\n",
      "\n",
      "Linear SVM :\n",
      "\n",
      "Classification report\n",
      "              precision    recall  f1-score   support\n",
      "\n",
      "           0       0.82      0.98      0.89      1989\n",
      "           1       0.68      0.13      0.22       511\n",
      "\n",
      "    accuracy                           0.81      2500\n",
      "   macro avg       0.75      0.56      0.56      2500\n",
      "weighted avg       0.79      0.81      0.75      2500\n",
      "\n",
      "\n",
      "Confusion matrix\n",
      "[[1957   32]\n",
      " [ 443   68]] \n",
      "\n",
      "\n",
      "\n",
      "************************************************************\n"
     ]
    },
    {
     "name": "stderr",
     "output_type": "stream",
     "text": [
      "6it [00:03,  1.82it/s]"
     ]
    },
    {
     "name": "stdout",
     "output_type": "stream",
     "text": [
      "\n",
      "Decision Tree :\n",
      "\n",
      "Classification report\n",
      "              precision    recall  f1-score   support\n",
      "\n",
      "           0       0.87      0.86      0.86      1989\n",
      "           1       0.47      0.50      0.48       511\n",
      "\n",
      "    accuracy                           0.78      2500\n",
      "   macro avg       0.67      0.68      0.67      2500\n",
      "weighted avg       0.79      0.78      0.79      2500\n",
      "\n",
      "\n",
      "Confusion matrix\n",
      "[[1704  285]\n",
      " [ 257  254]] \n",
      "\n",
      "\n",
      "\n",
      "************************************************************\n",
      "\n",
      "Logistic Regression :\n",
      "\n",
      "Classification report\n",
      "              precision    recall  f1-score   support\n",
      "\n",
      "           0       0.82      0.97      0.89      1989\n",
      "           1       0.64      0.19      0.29       511\n",
      "\n",
      "    accuracy                           0.81      2500\n",
      "   macro avg       0.73      0.58      0.59      2500\n",
      "weighted avg       0.79      0.81      0.77      2500\n",
      "\n",
      "\n",
      "Confusion matrix\n",
      "[[1935   54]\n",
      " [ 414   97]] \n",
      "\n",
      "\n",
      "\n",
      "************************************************************\n"
     ]
    },
    {
     "name": "stderr",
     "output_type": "stream",
     "text": [
      "\n"
     ]
    }
   ],
   "source": [
    "# # Evaluate the model and calculate model accuracy\n",
    "\n",
    "model_dict_desc = {}\n",
    "for name, clf in tqdm(zip(names, classifiers)):\n",
    "    \n",
    "    # traing\n",
    "    clf.fit(X_train, y_train)\n",
    "    y_pred = clf.predict(X_test)\n",
    "    \n",
    " \n",
    "    model_dict_desc[name] = [accuracy_score(y_test, y_pred),\n",
    "                             precision_score(y_test, y_pred), \n",
    "                             recall_score(y_test.values, y_pred),\n",
    "                             f1_score(y_test.values, y_pred)]\n",
    "\n",
    "    print(f\"\\n{name} :\")\n",
    "    print(\"\\nClassification report\")\n",
    "    print(classification_report(y_test.values, y_pred))\n",
    "    \n",
    "    print(\"\\nConfusion matrix\")\n",
    "    print(confusion_matrix(y_test.values, y_pred), \"\\n\\n\\n\")\n",
    "    print('************************************************************')"
   ]
  },
  {
   "cell_type": "code",
   "execution_count": 50,
   "id": "44e66add-18e1-42d0-b7ec-ddadccea583c",
   "metadata": {},
   "outputs": [
    {
     "data": {
      "text/html": [
       "<div>\n",
       "<style scoped>\n",
       "    .dataframe tbody tr th:only-of-type {\n",
       "        vertical-align: middle;\n",
       "    }\n",
       "\n",
       "    .dataframe tbody tr th {\n",
       "        vertical-align: top;\n",
       "    }\n",
       "\n",
       "    .dataframe thead th {\n",
       "        text-align: right;\n",
       "    }\n",
       "</style>\n",
       "<table border=\"1\" class=\"dataframe\">\n",
       "  <thead>\n",
       "    <tr style=\"text-align: right;\">\n",
       "      <th></th>\n",
       "      <th>accuracy_score</th>\n",
       "      <th>precision_score</th>\n",
       "      <th>recall_score</th>\n",
       "      <th>f1_score</th>\n",
       "    </tr>\n",
       "  </thead>\n",
       "  <tbody>\n",
       "    <tr>\n",
       "      <th>Decision Tree</th>\n",
       "      <td>0.7832</td>\n",
       "      <td>0.471243</td>\n",
       "      <td>0.497065</td>\n",
       "      <td>0.483810</td>\n",
       "    </tr>\n",
       "    <tr>\n",
       "      <th>Naive Bayes</th>\n",
       "      <td>0.8236</td>\n",
       "      <td>0.615894</td>\n",
       "      <td>0.363992</td>\n",
       "      <td>0.457565</td>\n",
       "    </tr>\n",
       "    <tr>\n",
       "      <th>Nearest Neighbors</th>\n",
       "      <td>0.8204</td>\n",
       "      <td>0.609929</td>\n",
       "      <td>0.336595</td>\n",
       "      <td>0.433796</td>\n",
       "    </tr>\n",
       "    <tr>\n",
       "      <th>SVM</th>\n",
       "      <td>0.8396</td>\n",
       "      <td>0.843750</td>\n",
       "      <td>0.264188</td>\n",
       "      <td>0.402385</td>\n",
       "    </tr>\n",
       "    <tr>\n",
       "      <th>Logistic Regression</th>\n",
       "      <td>0.8128</td>\n",
       "      <td>0.642384</td>\n",
       "      <td>0.189824</td>\n",
       "      <td>0.293051</td>\n",
       "    </tr>\n",
       "    <tr>\n",
       "      <th>Linear SVM</th>\n",
       "      <td>0.8100</td>\n",
       "      <td>0.680000</td>\n",
       "      <td>0.133072</td>\n",
       "      <td>0.222586</td>\n",
       "    </tr>\n",
       "  </tbody>\n",
       "</table>\n",
       "</div>"
      ],
      "text/plain": [
       "                     accuracy_score  precision_score  recall_score  f1_score\n",
       "Decision Tree                0.7832         0.471243      0.497065  0.483810\n",
       "Naive Bayes                  0.8236         0.615894      0.363992  0.457565\n",
       "Nearest Neighbors            0.8204         0.609929      0.336595  0.433796\n",
       "SVM                          0.8396         0.843750      0.264188  0.402385\n",
       "Logistic Regression          0.8128         0.642384      0.189824  0.293051\n",
       "Linear SVM                   0.8100         0.680000      0.133072  0.222586"
      ]
     },
     "execution_count": 50,
     "metadata": {},
     "output_type": "execute_result"
    }
   ],
   "source": [
    "model_df_desc = pd.DataFrame(model_dict_desc, index = ['accuracy_score', 'precision_score', 'recall_score','f1_score']).T\n",
    "model_df_desc = model_df_desc.sort_values(by=['f1_score','recall_score','accuracy_score'], ascending=False)\n",
    "model_df_desc"
   ]
  },
  {
   "cell_type": "markdown",
   "id": "fc1bad5e-c7de-4881-9093-9ebe532919e3",
   "metadata": {},
   "source": [
    "### Fixing the data imbalance issue"
   ]
  },
  {
   "cell_type": "code",
   "execution_count": 51,
   "id": "33edabe0-1e54-4dc9-8317-503f710b5e55",
   "metadata": {},
   "outputs": [],
   "source": [
    "smk = SMOTE()\n",
    "X_train, y_train = smk.fit_resample(X_train, y_train)"
   ]
  },
  {
   "cell_type": "code",
   "execution_count": 52,
   "id": "46e64abb-040c-4f11-a958-8066ed74777b",
   "metadata": {},
   "outputs": [
    {
     "name": "stdout",
     "output_type": "stream",
     "text": [
      "(11948, 12) (2500, 12) (11948,) (2500,)\n"
     ]
    }
   ],
   "source": [
    "print(X_train.shape, X_test.shape, y_train.shape, y_test.shape)"
   ]
  },
  {
   "cell_type": "code",
   "execution_count": 53,
   "id": "c601dfe6-590b-4248-b388-2eae7bca20b4",
   "metadata": {},
   "outputs": [
    {
     "name": "stderr",
     "output_type": "stream",
     "text": [
      "0it [00:00, ?it/s]"
     ]
    },
    {
     "name": "stdout",
     "output_type": "stream",
     "text": [
      "\n",
      "Naive Bayes :\n",
      "\n",
      "Classification report\n",
      "              precision    recall  f1-score   support\n",
      "\n",
      "           0       0.89      0.76      0.82      1989\n",
      "           1       0.41      0.65      0.51       511\n",
      "\n",
      "    accuracy                           0.74      2500\n",
      "   macro avg       0.65      0.71      0.66      2500\n",
      "weighted avg       0.80      0.74      0.76      2500\n",
      "\n",
      "\n",
      "Confusion matrix\n",
      "[[1515  474]\n",
      " [ 178  333]] \n",
      "\n",
      "\n",
      "\n",
      "************************************************************\n"
     ]
    },
    {
     "name": "stderr",
     "output_type": "stream",
     "text": [
      "2it [00:00,  2.59it/s]"
     ]
    },
    {
     "name": "stdout",
     "output_type": "stream",
     "text": [
      "\n",
      "Nearest Neighbors :\n",
      "\n",
      "Classification report\n",
      "              precision    recall  f1-score   support\n",
      "\n",
      "           0       0.90      0.74      0.81      1989\n",
      "           1       0.40      0.67      0.50       511\n",
      "\n",
      "    accuracy                           0.72      2500\n",
      "   macro avg       0.65      0.70      0.65      2500\n",
      "weighted avg       0.79      0.72      0.75      2500\n",
      "\n",
      "\n",
      "Confusion matrix\n",
      "[[1467  522]\n",
      " [ 169  342]] \n",
      "\n",
      "\n",
      "\n",
      "************************************************************\n"
     ]
    },
    {
     "name": "stderr",
     "output_type": "stream",
     "text": [
      "3it [00:10,  4.19s/it]"
     ]
    },
    {
     "name": "stdout",
     "output_type": "stream",
     "text": [
      "\n",
      "SVM :\n",
      "\n",
      "Classification report\n",
      "              precision    recall  f1-score   support\n",
      "\n",
      "           0       0.92      0.80      0.86      1989\n",
      "           1       0.48      0.72      0.58       511\n",
      "\n",
      "    accuracy                           0.79      2500\n",
      "   macro avg       0.70      0.76      0.72      2500\n",
      "weighted avg       0.83      0.79      0.80      2500\n",
      "\n",
      "\n",
      "Confusion matrix\n",
      "[[1597  392]\n",
      " [ 144  367]] \n",
      "\n",
      "\n",
      "\n",
      "************************************************************\n"
     ]
    },
    {
     "name": "stderr",
     "output_type": "stream",
     "text": [
      "5it [00:10,  1.82s/it]"
     ]
    },
    {
     "name": "stdout",
     "output_type": "stream",
     "text": [
      "\n",
      "Linear SVM :\n",
      "\n",
      "Classification report\n",
      "              precision    recall  f1-score   support\n",
      "\n",
      "           0       0.91      0.72      0.80      1989\n",
      "           1       0.40      0.71      0.51       511\n",
      "\n",
      "    accuracy                           0.72      2500\n",
      "   macro avg       0.65      0.72      0.66      2500\n",
      "weighted avg       0.80      0.72      0.74      2500\n",
      "\n",
      "\n",
      "Confusion matrix\n",
      "[[1438  551]\n",
      " [ 148  363]] \n",
      "\n",
      "\n",
      "\n",
      "************************************************************\n",
      "\n",
      "Decision Tree :\n",
      "\n",
      "Classification report\n",
      "              precision    recall  f1-score   support\n",
      "\n",
      "           0       0.88      0.83      0.85      1989\n",
      "           1       0.46      0.57      0.51       511\n",
      "\n",
      "    accuracy                           0.78      2500\n",
      "   macro avg       0.67      0.70      0.68      2500\n",
      "weighted avg       0.80      0.78      0.78      2500\n",
      "\n",
      "\n",
      "Confusion matrix\n",
      "[[1651  338]\n",
      " [ 222  289]] \n",
      "\n",
      "\n",
      "\n",
      "************************************************************\n"
     ]
    },
    {
     "name": "stderr",
     "output_type": "stream",
     "text": [
      "6it [00:10,  1.80s/it]"
     ]
    },
    {
     "name": "stdout",
     "output_type": "stream",
     "text": [
      "\n",
      "Logistic Regression :\n",
      "\n",
      "Classification report\n",
      "              precision    recall  f1-score   support\n",
      "\n",
      "           0       0.91      0.72      0.80      1989\n",
      "           1       0.39      0.71      0.51       511\n",
      "\n",
      "    accuracy                           0.72      2500\n",
      "   macro avg       0.65      0.72      0.65      2500\n",
      "weighted avg       0.80      0.72      0.74      2500\n",
      "\n",
      "\n",
      "Confusion matrix\n",
      "[[1426  563]\n",
      " [ 146  365]] \n",
      "\n",
      "\n",
      "\n",
      "************************************************************\n"
     ]
    },
    {
     "name": "stderr",
     "output_type": "stream",
     "text": [
      "\n"
     ]
    }
   ],
   "source": [
    "# # Evaluate the model and calculate model accuracy\n",
    "\n",
    "model_dict_desc = {}\n",
    "for name, clf in tqdm(zip(names, classifiers)):\n",
    "    \n",
    "    # traing\n",
    "    clf.fit(X_train, y_train)\n",
    "    y_pred = clf.predict(X_test)\n",
    "    \n",
    " \n",
    "    model_dict_desc[name] = [accuracy_score(y_test, y_pred),\n",
    "                             precision_score(y_test, y_pred), \n",
    "                             recall_score(y_test.values, y_pred),\n",
    "                             f1_score(y_test.values, y_pred)]\n",
    "\n",
    "    print(f\"\\n{name} :\")\n",
    "    print(\"\\nClassification report\")\n",
    "    print(classification_report(y_test.values, y_pred))\n",
    "    \n",
    "    print(\"\\nConfusion matrix\")\n",
    "    print(confusion_matrix(y_test.values, y_pred), \"\\n\\n\\n\")\n",
    "    print('************************************************************')"
   ]
  },
  {
   "cell_type": "code",
   "execution_count": 54,
   "id": "f1528b9a-008f-4817-9bd7-c10884f9818c",
   "metadata": {},
   "outputs": [
    {
     "data": {
      "text/html": [
       "<div>\n",
       "<style scoped>\n",
       "    .dataframe tbody tr th:only-of-type {\n",
       "        vertical-align: middle;\n",
       "    }\n",
       "\n",
       "    .dataframe tbody tr th {\n",
       "        vertical-align: top;\n",
       "    }\n",
       "\n",
       "    .dataframe thead th {\n",
       "        text-align: right;\n",
       "    }\n",
       "</style>\n",
       "<table border=\"1\" class=\"dataframe\">\n",
       "  <thead>\n",
       "    <tr style=\"text-align: right;\">\n",
       "      <th></th>\n",
       "      <th>accuracy_score</th>\n",
       "      <th>precision_score</th>\n",
       "      <th>recall_score</th>\n",
       "      <th>f1_score</th>\n",
       "    </tr>\n",
       "  </thead>\n",
       "  <tbody>\n",
       "    <tr>\n",
       "      <th>SVM</th>\n",
       "      <td>0.7856</td>\n",
       "      <td>0.483531</td>\n",
       "      <td>0.718200</td>\n",
       "      <td>0.577953</td>\n",
       "    </tr>\n",
       "    <tr>\n",
       "      <th>Linear SVM</th>\n",
       "      <td>0.7204</td>\n",
       "      <td>0.397155</td>\n",
       "      <td>0.710372</td>\n",
       "      <td>0.509474</td>\n",
       "    </tr>\n",
       "    <tr>\n",
       "      <th>Decision Tree</th>\n",
       "      <td>0.7760</td>\n",
       "      <td>0.460925</td>\n",
       "      <td>0.565558</td>\n",
       "      <td>0.507909</td>\n",
       "    </tr>\n",
       "    <tr>\n",
       "      <th>Logistic Regression</th>\n",
       "      <td>0.7164</td>\n",
       "      <td>0.393319</td>\n",
       "      <td>0.714286</td>\n",
       "      <td>0.507297</td>\n",
       "    </tr>\n",
       "    <tr>\n",
       "      <th>Naive Bayes</th>\n",
       "      <td>0.7392</td>\n",
       "      <td>0.412639</td>\n",
       "      <td>0.651663</td>\n",
       "      <td>0.505311</td>\n",
       "    </tr>\n",
       "    <tr>\n",
       "      <th>Nearest Neighbors</th>\n",
       "      <td>0.7236</td>\n",
       "      <td>0.395833</td>\n",
       "      <td>0.669276</td>\n",
       "      <td>0.497455</td>\n",
       "    </tr>\n",
       "  </tbody>\n",
       "</table>\n",
       "</div>"
      ],
      "text/plain": [
       "                     accuracy_score  precision_score  recall_score  f1_score\n",
       "SVM                          0.7856         0.483531      0.718200  0.577953\n",
       "Linear SVM                   0.7204         0.397155      0.710372  0.509474\n",
       "Decision Tree                0.7760         0.460925      0.565558  0.507909\n",
       "Logistic Regression          0.7164         0.393319      0.714286  0.507297\n",
       "Naive Bayes                  0.7392         0.412639      0.651663  0.505311\n",
       "Nearest Neighbors            0.7236         0.395833      0.669276  0.497455"
      ]
     },
     "execution_count": 54,
     "metadata": {},
     "output_type": "execute_result"
    }
   ],
   "source": [
    "model_df_desc = pd.DataFrame(model_dict_desc, index = ['accuracy_score', 'precision_score', 'recall_score','f1_score']).T\n",
    "model_df_desc = model_df_desc.sort_values(by=['f1_score','recall_score','accuracy_score'], ascending=False)\n",
    "model_df_desc"
   ]
  },
  {
   "cell_type": "markdown",
   "id": "c8a71188-b9f2-4a81-b854-2a6669a66023",
   "metadata": {},
   "source": [
    "* Overall here the accuracy decreases but the all the other metrics got increased."
   ]
  },
  {
   "cell_type": "markdown",
   "id": "2bfeaec5-4a70-40f5-8648-bf99345bd2b6",
   "metadata": {},
   "source": [
    "# Feature importance "
   ]
  },
  {
   "cell_type": "code",
   "execution_count": 55,
   "id": "da9568e5-1258-4272-9745-0fc2e9fce851",
   "metadata": {},
   "outputs": [
    {
     "data": {
      "image/png": "[encoded data removed]",
      "text/plain": [
       "<Figure size 1000x600 with 1 Axes>"
      ]
     },
     "metadata": {},
     "output_type": "display_data"
    }
   ],
   "source": [
    "\n",
    "feature_names = data_churn_X.columns\n",
    "\n",
    "# Training a Linear SVM\n",
    "svm_model = LinearSVC(random_state=0)\n",
    "svm_model.fit(data_churn_X, data_churn_Y)\n",
    "\n",
    "# Extracting coefficients\n",
    "coefficients = svm_model.coef_[0]\n",
    "\n",
    "# Plotting feature importances\n",
    "plt.figure(figsize=(10, 6))\n",
    "plt.bar(feature_names, coefficients)\n",
    "plt.xlabel('Features')\n",
    "plt.ylabel('Coefficient Value')\n",
    "plt.title('Feature Importances in Linear SVM')\n",
    "plt.xticks(rotation=45)\n",
    "plt.show()\n"
   ]
  },
  {
   "cell_type": "markdown",
   "id": "ca6114f8-5fc7-445e-8bee-e3b8513c37a6",
   "metadata": {},
   "source": [
    "* Interpretation :\n",
    "\n",
    "    * From the figure we know that Age, Balance has the most positive effect for being existed."
   ]
  },
  {
   "cell_type": "code",
   "execution_count": null,
   "id": "1d5e4fee-86b9-4e28-b362-43c75b58a8fc",
   "metadata": {},
   "outputs": [],
   "source": []
  }
 ],
 "metadata": {
  "kernelspec": {
   "display_name": "Python 3 (ipykernel)",
   "language": "python",
   "name": "python3"
  },
  "language_info": {
   "codemirror_mode": {
    "name": "ipython",
    "version": 3
   },
   "file_extension": ".py",
   "mimetype": "text/x-python",
   "name": "python",
   "nbconvert_exporter": "python",
   "pygments_lexer": "ipython3",
   "version": "3.10.13"
  }
 },
 "nbformat": 4,
 "nbformat_minor": 5
}
