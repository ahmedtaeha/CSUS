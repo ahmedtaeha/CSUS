{
 "cells": [
  {
   "cell_type": "markdown",
   "id": "f5938fd1-0a43-4456-a67f-0cc60e120e33",
   "metadata": {},
   "source": [
    "# Data Preprocessing Task"
   ]
  },
  {
   "cell_type": "markdown",
   "id": "ffb6a2ff-c935-4f60-9bc1-6f785486161f",
   "metadata": {},
   "source": [
    "## Import Packages"
   ]
  },
  {
   "cell_type": "code",
   "execution_count": 1,
   "id": "a15ac71f-ba10-40c1-934d-1c6ba8665c78",
   "metadata": {},
   "outputs": [],
   "source": [
    "import pandas as pd\n",
    "import numpy as np\n",
    "import matplotlib.pyplot as plt\n",
    "import seaborn as sns\n",
    "from sklearn.preprocessing import LabelEncoder,MinMaxScaler\n",
    "from sklearn.model_selection import train_test_split\n",
    "import os"
   ]
  },
  {
   "cell_type": "markdown",
   "id": "19e5ebdb-a461-4b68-99c3-1af45810254f",
   "metadata": {},
   "source": [
    "## Read the Dataset provided (Dataset 1)\n",
    "\n",
    "* For my own dataset I have used a Air pollution measurement dataset.\n",
    "\n",
    "* Each rows contain the hourly measurement recording of the 5 pollutants (NO, NO2, NOX, PM10, and PM2.5).\n",
    "  \n",
    "* The data was collected in a location in Londan for the entirety of year 2017."
   ]
  },
  {
   "cell_type": "code",
   "execution_count": 2,
   "id": "590a40e0-1950-4836-b522-37ec2c0610ae",
   "metadata": {},
   "outputs": [],
   "source": [
    "DATA_PATH=os.path.join(os.getcwd(),\"LaqnData.csv\")\n",
    "data_1=pd.read_csv(DATA_PATH)"
   ]
  },
  {
   "cell_type": "code",
   "execution_count": 3,
   "id": "7bb9c882-e450-4abe-a11d-69ea663651af",
   "metadata": {
    "scrolled": true
   },
   "outputs": [
    {
     "data": {
      "text/html": [
       "<div>\n",
       "<style scoped>\n",
       "    .dataframe tbody tr th:only-of-type {\n",
       "        vertical-align: middle;\n",
       "    }\n",
       "\n",
       "    .dataframe tbody tr th {\n",
       "        vertical-align: top;\n",
       "    }\n",
       "\n",
       "    .dataframe thead th {\n",
       "        text-align: right;\n",
       "    }\n",
       "</style>\n",
       "<table border=\"1\" class=\"dataframe\">\n",
       "  <thead>\n",
       "    <tr style=\"text-align: right;\">\n",
       "      <th></th>\n",
       "      <th>Site</th>\n",
       "      <th>Species</th>\n",
       "      <th>ReadingDateTime</th>\n",
       "      <th>Value</th>\n",
       "      <th>Units</th>\n",
       "      <th>Provisional or Ratified</th>\n",
       "    </tr>\n",
       "  </thead>\n",
       "  <tbody>\n",
       "    <tr>\n",
       "      <th>0</th>\n",
       "      <td>HI0</td>\n",
       "      <td>CO</td>\n",
       "      <td>01/01/2018 00:00</td>\n",
       "      <td>NaN</td>\n",
       "      <td>mg m-3</td>\n",
       "      <td>P</td>\n",
       "    </tr>\n",
       "    <tr>\n",
       "      <th>1</th>\n",
       "      <td>HI0</td>\n",
       "      <td>CO</td>\n",
       "      <td>01/01/2018 00:15</td>\n",
       "      <td>NaN</td>\n",
       "      <td>mg m-3</td>\n",
       "      <td>P</td>\n",
       "    </tr>\n",
       "    <tr>\n",
       "      <th>2</th>\n",
       "      <td>HI0</td>\n",
       "      <td>CO</td>\n",
       "      <td>01/01/2018 00:30</td>\n",
       "      <td>NaN</td>\n",
       "      <td>mg m-3</td>\n",
       "      <td>P</td>\n",
       "    </tr>\n",
       "    <tr>\n",
       "      <th>3</th>\n",
       "      <td>HI0</td>\n",
       "      <td>CO</td>\n",
       "      <td>01/01/2018 00:45</td>\n",
       "      <td>NaN</td>\n",
       "      <td>mg m-3</td>\n",
       "      <td>P</td>\n",
       "    </tr>\n",
       "    <tr>\n",
       "      <th>4</th>\n",
       "      <td>HI0</td>\n",
       "      <td>CO</td>\n",
       "      <td>01/01/2018 01:00</td>\n",
       "      <td>NaN</td>\n",
       "      <td>mg m-3</td>\n",
       "      <td>P</td>\n",
       "    </tr>\n",
       "  </tbody>\n",
       "</table>\n",
       "</div>"
      ],
      "text/plain": [
       "  Site Species   ReadingDateTime  Value   Units Provisional or Ratified\n",
       "0  HI0      CO  01/01/2018 00:00    NaN  mg m-3                       P\n",
       "1  HI0      CO  01/01/2018 00:15    NaN  mg m-3                       P\n",
       "2  HI0      CO  01/01/2018 00:30    NaN  mg m-3                       P\n",
       "3  HI0      CO  01/01/2018 00:45    NaN  mg m-3                       P\n",
       "4  HI0      CO  01/01/2018 01:00    NaN  mg m-3                       P"
      ]
     },
     "execution_count": 3,
     "metadata": {},
     "output_type": "execute_result"
    }
   ],
   "source": [
    "data_1.head() ##preview the dataset using head function"
   ]
  },
  {
   "cell_type": "code",
   "execution_count": 4,
   "id": "563cc4ee-3410-47bb-b25a-0cf4feb751d5",
   "metadata": {},
   "outputs": [
    {
     "name": "stdout",
     "output_type": "stream",
     "text": [
      "shape of dataset ---->  (175200, 6)\n",
      "Number of examples ----->  175200\n",
      "Number of columns ----->  6\n"
     ]
    }
   ],
   "source": [
    "print(\"shape of dataset ----> \",data_1.shape)\n",
    "print(\"Number of examples -----> \",data_1.shape[0])\n",
    "print(\"Number of columns -----> \",data_1.shape[1])"
   ]
  },
  {
   "cell_type": "markdown",
   "id": "c6f259b0-07d1-4ea0-8822-22ff72bd38f7",
   "metadata": {},
   "source": [
    "### Quick check of the statistics of the dataset using pandas api\n",
    "\n",
    "As you could see using the describe function it gives us the basic statistics out of it"
   ]
  },
  {
   "cell_type": "code",
   "execution_count": 5,
   "id": "cbc893e0-7b8f-414a-a38b-2bccd40844cf",
   "metadata": {
    "scrolled": true
   },
   "outputs": [
    {
     "data": {
      "text/html": [
       "<div>\n",
       "<style scoped>\n",
       "    .dataframe tbody tr th:only-of-type {\n",
       "        vertical-align: middle;\n",
       "    }\n",
       "\n",
       "    .dataframe tbody tr th {\n",
       "        vertical-align: top;\n",
       "    }\n",
       "\n",
       "    .dataframe thead th {\n",
       "        text-align: right;\n",
       "    }\n",
       "</style>\n",
       "<table border=\"1\" class=\"dataframe\">\n",
       "  <thead>\n",
       "    <tr style=\"text-align: right;\">\n",
       "      <th></th>\n",
       "      <th>Value</th>\n",
       "    </tr>\n",
       "  </thead>\n",
       "  <tbody>\n",
       "    <tr>\n",
       "      <th>count</th>\n",
       "      <td>131724.000000</td>\n",
       "    </tr>\n",
       "    <tr>\n",
       "      <th>mean</th>\n",
       "      <td>48.050503</td>\n",
       "    </tr>\n",
       "    <tr>\n",
       "      <th>std</th>\n",
       "      <td>54.252123</td>\n",
       "    </tr>\n",
       "    <tr>\n",
       "      <th>min</th>\n",
       "      <td>0.000000</td>\n",
       "    </tr>\n",
       "    <tr>\n",
       "      <th>25%</th>\n",
       "      <td>12.500000</td>\n",
       "    </tr>\n",
       "    <tr>\n",
       "      <th>50%</th>\n",
       "      <td>33.200000</td>\n",
       "    </tr>\n",
       "    <tr>\n",
       "      <th>75%</th>\n",
       "      <td>64.200000</td>\n",
       "    </tr>\n",
       "    <tr>\n",
       "      <th>max</th>\n",
       "      <td>643.900020</td>\n",
       "    </tr>\n",
       "  </tbody>\n",
       "</table>\n",
       "</div>"
      ],
      "text/plain": [
       "               Value\n",
       "count  131724.000000\n",
       "mean       48.050503\n",
       "std        54.252123\n",
       "min         0.000000\n",
       "25%        12.500000\n",
       "50%        33.200000\n",
       "75%        64.200000\n",
       "max       643.900020"
      ]
     },
     "execution_count": 5,
     "metadata": {},
     "output_type": "execute_result"
    }
   ],
   "source": [
    "data_1.describe()"
   ]
  },
  {
   "cell_type": "markdown",
   "id": "efc1ffc0-8485-4bbd-82a7-f8ddbd07a18d",
   "metadata": {},
   "source": [
    "### Info function gives us the information about how many null data we have out of total entries and along with the datatype"
   ]
  },
  {
   "cell_type": "code",
   "execution_count": 6,
   "id": "7aa7019c-e3d5-48d3-89cd-061432404612",
   "metadata": {
    "scrolled": true
   },
   "outputs": [
    {
     "name": "stdout",
     "output_type": "stream",
     "text": [
      "<class 'pandas.core.frame.DataFrame'>\n",
      "RangeIndex: 175200 entries, 0 to 175199\n",
      "Data columns (total 6 columns):\n",
      " #   Column                   Non-Null Count   Dtype  \n",
      "---  ------                   --------------   -----  \n",
      " 0   Site                     175200 non-null  object \n",
      " 1   Species                  175200 non-null  object \n",
      " 2   ReadingDateTime          175200 non-null  object \n",
      " 3   Value                    131724 non-null  float64\n",
      " 4   Units                    175200 non-null  object \n",
      " 5   Provisional or Ratified  175200 non-null  object \n",
      "dtypes: float64(1), object(5)\n",
      "memory usage: 8.0+ MB\n"
     ]
    }
   ],
   "source": [
    "data_1.info()"
   ]
  },
  {
   "cell_type": "markdown",
   "id": "3c5a68ac-d956-41e0-a8b1-ff8face98c86",
   "metadata": {},
   "source": [
    "### 1. Remove Duplicates value "
   ]
  },
  {
   "cell_type": "code",
   "execution_count": 7,
   "id": "c14948c4-345d-4963-9008-4690db074017",
   "metadata": {},
   "outputs": [],
   "source": [
    "# shape before removing duplicates"
   ]
  },
  {
   "cell_type": "code",
   "execution_count": 8,
   "id": "fc494c9d-cea9-47b3-9314-484d0773a359",
   "metadata": {},
   "outputs": [
    {
     "data": {
      "text/plain": [
       "(175200, 6)"
      ]
     },
     "execution_count": 8,
     "metadata": {},
     "output_type": "execute_result"
    }
   ],
   "source": [
    "data_1.shape"
   ]
  },
  {
   "cell_type": "code",
   "execution_count": 9,
   "id": "01b0866a-d692-4551-916c-d77525aaad96",
   "metadata": {},
   "outputs": [],
   "source": [
    "data_1 = data_1.drop_duplicates()"
   ]
  },
  {
   "cell_type": "code",
   "execution_count": 10,
   "id": "c0148597-2fb7-40bd-b22c-5d3216ab42e6",
   "metadata": {},
   "outputs": [
    {
     "data": {
      "text/plain": [
       "(175200, 6)"
      ]
     },
     "execution_count": 10,
     "metadata": {},
     "output_type": "execute_result"
    }
   ],
   "source": [
    "data_1.shape"
   ]
  },
  {
   "cell_type": "markdown",
   "id": "be921a69-9c0f-4ee4-8872-2f2d37cf456b",
   "metadata": {},
   "source": [
    "* So we conclude that there is no duplicates."
   ]
  },
  {
   "cell_type": "markdown",
   "id": "fc987b96-732f-4c27-88f9-a72815b6c6ee",
   "metadata": {},
   "source": [
    "### 2. Remove unwanted columns"
   ]
  },
  {
   "cell_type": "markdown",
   "id": "3ff23e68-f418-4135-bb90-13a6d9937206",
   "metadata": {},
   "source": [
    "* drop function allows to drop any column which is unncessary and using inplace=\"True\", does not show the column in the dataframe when we see the dataframe back again\n",
    "\n",
    "* In this case we dont want datetime when it was recorded and the site as it contains single value doesnot provide any insight."
   ]
  },
  {
   "cell_type": "code",
   "execution_count": 11,
   "id": "d7fa7f9e-dd4e-47bf-8507-7b7a5d5c8f36",
   "metadata": {},
   "outputs": [],
   "source": [
    "data_1.drop(columns=['ReadingDateTime', 'Site'], axis=1, inplace=True)"
   ]
  },
  {
   "cell_type": "markdown",
   "id": "3d74820c-56b7-4d6b-92e8-cd561fc8c987",
   "metadata": {},
   "source": [
    "### 3. Checking the null values"
   ]
  },
  {
   "cell_type": "code",
   "execution_count": 12,
   "id": "b20aa57c-0adb-4d96-9b11-ef250c66e580",
   "metadata": {},
   "outputs": [
    {
     "data": {
      "text/plain": [
       "Species                        0\n",
       "Value                      43476\n",
       "Units                          0\n",
       "Provisional or Ratified        0\n",
       "dtype: int64"
      ]
     },
     "execution_count": 12,
     "metadata": {},
     "output_type": "execute_result"
    }
   ],
   "source": [
    "data_1.isna().sum()"
   ]
  },
  {
   "cell_type": "code",
   "execution_count": 13,
   "id": "b45110bc-388c-4c1d-8482-5e80cbe632e3",
   "metadata": {},
   "outputs": [
    {
     "name": "stdout",
     "output_type": "stream",
     "text": [
      "rows present before handling nan : 175200\n",
      "rows present after handling nan : 175200\n"
     ]
    }
   ],
   "source": [
    "##from the above info function, we can see that Value column has 131724 float values, so rest 43476 contain null values,\n",
    "## even from the above dataframe view we saw Value column has NaN value\n",
    "## so we need to remove those rows or impute with some impute techniques\n",
    "## here we would be imputing with mean of the value.\n",
    "\n",
    "\n",
    "print('rows present before handling nan :', data_1.shape[0])\n",
    "data_1['Value'] = data_1['Value'].fillna(data_1['Value'].mean())\n",
    "print('rows present after handling nan :', data_1.shape[0])"
   ]
  },
  {
   "cell_type": "markdown",
   "id": "7af52b4e-d74f-4ae8-8fe0-64bf1e8134f0",
   "metadata": {},
   "source": [
    "### 4. Encoding of the categorical variable"
   ]
  },
  {
   "cell_type": "code",
   "execution_count": 14,
   "id": "752f9952-bd7e-41d3-b67d-d904a8e24afd",
   "metadata": {},
   "outputs": [
    {
     "data": {
      "text/plain": [
       "Provisional or Ratified\n",
       "R    140160\n",
       "P     35040\n",
       "Name: count, dtype: int64"
      ]
     },
     "execution_count": 14,
     "metadata": {},
     "output_type": "execute_result"
    }
   ],
   "source": [
    "data_1['Provisional or Ratified'].value_counts()"
   ]
  },
  {
   "cell_type": "markdown",
   "id": "e2b1a4c3-1dd8-4232-b099-0dc0c48f8856",
   "metadata": {},
   "source": [
    "#### binary encoding :\n",
    "\n",
    "* As there are only two value, we will use binary encoding and replace the value with 0 and 1.\n"
   ]
  },
  {
   "cell_type": "code",
   "execution_count": 15,
   "id": "a3f0f497-26d4-4cd9-ba1b-9dccf9fa5a42",
   "metadata": {},
   "outputs": [],
   "source": [
    "data_1['Provisional or Ratified'] = data_1['Provisional or Ratified'].replace({'R': 1, 'P': 0})"
   ]
  },
  {
   "cell_type": "code",
   "execution_count": 16,
   "id": "d4d945aa-8e68-49ca-b49b-1c7728cae023",
   "metadata": {},
   "outputs": [
    {
     "data": {
      "text/html": [
       "<div>\n",
       "<style scoped>\n",
       "    .dataframe tbody tr th:only-of-type {\n",
       "        vertical-align: middle;\n",
       "    }\n",
       "\n",
       "    .dataframe tbody tr th {\n",
       "        vertical-align: top;\n",
       "    }\n",
       "\n",
       "    .dataframe thead th {\n",
       "        text-align: right;\n",
       "    }\n",
       "</style>\n",
       "<table border=\"1\" class=\"dataframe\">\n",
       "  <thead>\n",
       "    <tr style=\"text-align: right;\">\n",
       "      <th></th>\n",
       "      <th>Species</th>\n",
       "      <th>Value</th>\n",
       "      <th>Units</th>\n",
       "      <th>Provisional or Ratified</th>\n",
       "    </tr>\n",
       "  </thead>\n",
       "  <tbody>\n",
       "    <tr>\n",
       "      <th>0</th>\n",
       "      <td>CO</td>\n",
       "      <td>48.050503</td>\n",
       "      <td>mg m-3</td>\n",
       "      <td>0</td>\n",
       "    </tr>\n",
       "    <tr>\n",
       "      <th>1</th>\n",
       "      <td>CO</td>\n",
       "      <td>48.050503</td>\n",
       "      <td>mg m-3</td>\n",
       "      <td>0</td>\n",
       "    </tr>\n",
       "    <tr>\n",
       "      <th>2</th>\n",
       "      <td>CO</td>\n",
       "      <td>48.050503</td>\n",
       "      <td>mg m-3</td>\n",
       "      <td>0</td>\n",
       "    </tr>\n",
       "    <tr>\n",
       "      <th>3</th>\n",
       "      <td>CO</td>\n",
       "      <td>48.050503</td>\n",
       "      <td>mg m-3</td>\n",
       "      <td>0</td>\n",
       "    </tr>\n",
       "    <tr>\n",
       "      <th>4</th>\n",
       "      <td>CO</td>\n",
       "      <td>48.050503</td>\n",
       "      <td>mg m-3</td>\n",
       "      <td>0</td>\n",
       "    </tr>\n",
       "  </tbody>\n",
       "</table>\n",
       "</div>"
      ],
      "text/plain": [
       "  Species      Value   Units  Provisional or Ratified\n",
       "0      CO  48.050503  mg m-3                        0\n",
       "1      CO  48.050503  mg m-3                        0\n",
       "2      CO  48.050503  mg m-3                        0\n",
       "3      CO  48.050503  mg m-3                        0\n",
       "4      CO  48.050503  mg m-3                        0"
      ]
     },
     "execution_count": 16,
     "metadata": {},
     "output_type": "execute_result"
    }
   ],
   "source": [
    "data_1.head()"
   ]
  },
  {
   "cell_type": "code",
   "execution_count": 17,
   "id": "f94ffb8e-1652-4ccd-8d9e-a05e86443f4f",
   "metadata": {},
   "outputs": [
    {
     "data": {
      "text/plain": [
       "Species\n",
       "CO     35040\n",
       "NO     35040\n",
       "NO2    35040\n",
       "NOX    35040\n",
       "O3     35040\n",
       "Name: count, dtype: int64"
      ]
     },
     "execution_count": 17,
     "metadata": {},
     "output_type": "execute_result"
    }
   ],
   "source": [
    "data_1['Species'].value_counts()"
   ]
  },
  {
   "cell_type": "markdown",
   "id": "3faf6caa-65e0-4ee0-8937-0e650f70b9a4",
   "metadata": {},
   "source": [
    "#### One-hot enconding:\n",
    "\n",
    "* As there are multiple value in Species. We will apply one-hot encoding as there is no sequence here. "
   ]
  },
  {
   "cell_type": "code",
   "execution_count": 18,
   "id": "ecf2c796-6111-481a-a759-ab5724b47f7f",
   "metadata": {},
   "outputs": [],
   "source": [
    "data_1 = pd.get_dummies(data_1, columns=['Species'], dtype=int)"
   ]
  },
  {
   "cell_type": "code",
   "execution_count": 19,
   "id": "9f7c9105-876d-4a00-922b-4891738fd3a4",
   "metadata": {},
   "outputs": [
    {
     "data": {
      "text/html": [
       "<div>\n",
       "<style scoped>\n",
       "    .dataframe tbody tr th:only-of-type {\n",
       "        vertical-align: middle;\n",
       "    }\n",
       "\n",
       "    .dataframe tbody tr th {\n",
       "        vertical-align: top;\n",
       "    }\n",
       "\n",
       "    .dataframe thead th {\n",
       "        text-align: right;\n",
       "    }\n",
       "</style>\n",
       "<table border=\"1\" class=\"dataframe\">\n",
       "  <thead>\n",
       "    <tr style=\"text-align: right;\">\n",
       "      <th></th>\n",
       "      <th>Value</th>\n",
       "      <th>Units</th>\n",
       "      <th>Provisional or Ratified</th>\n",
       "      <th>Species_CO</th>\n",
       "      <th>Species_NO</th>\n",
       "      <th>Species_NO2</th>\n",
       "      <th>Species_NOX</th>\n",
       "      <th>Species_O3</th>\n",
       "    </tr>\n",
       "  </thead>\n",
       "  <tbody>\n",
       "    <tr>\n",
       "      <th>0</th>\n",
       "      <td>48.050503</td>\n",
       "      <td>mg m-3</td>\n",
       "      <td>0</td>\n",
       "      <td>1</td>\n",
       "      <td>0</td>\n",
       "      <td>0</td>\n",
       "      <td>0</td>\n",
       "      <td>0</td>\n",
       "    </tr>\n",
       "    <tr>\n",
       "      <th>1</th>\n",
       "      <td>48.050503</td>\n",
       "      <td>mg m-3</td>\n",
       "      <td>0</td>\n",
       "      <td>1</td>\n",
       "      <td>0</td>\n",
       "      <td>0</td>\n",
       "      <td>0</td>\n",
       "      <td>0</td>\n",
       "    </tr>\n",
       "    <tr>\n",
       "      <th>2</th>\n",
       "      <td>48.050503</td>\n",
       "      <td>mg m-3</td>\n",
       "      <td>0</td>\n",
       "      <td>1</td>\n",
       "      <td>0</td>\n",
       "      <td>0</td>\n",
       "      <td>0</td>\n",
       "      <td>0</td>\n",
       "    </tr>\n",
       "    <tr>\n",
       "      <th>3</th>\n",
       "      <td>48.050503</td>\n",
       "      <td>mg m-3</td>\n",
       "      <td>0</td>\n",
       "      <td>1</td>\n",
       "      <td>0</td>\n",
       "      <td>0</td>\n",
       "      <td>0</td>\n",
       "      <td>0</td>\n",
       "    </tr>\n",
       "    <tr>\n",
       "      <th>4</th>\n",
       "      <td>48.050503</td>\n",
       "      <td>mg m-3</td>\n",
       "      <td>0</td>\n",
       "      <td>1</td>\n",
       "      <td>0</td>\n",
       "      <td>0</td>\n",
       "      <td>0</td>\n",
       "      <td>0</td>\n",
       "    </tr>\n",
       "  </tbody>\n",
       "</table>\n",
       "</div>"
      ],
      "text/plain": [
       "       Value   Units  Provisional or Ratified  Species_CO  Species_NO   \n",
       "0  48.050503  mg m-3                        0           1           0  \\\n",
       "1  48.050503  mg m-3                        0           1           0   \n",
       "2  48.050503  mg m-3                        0           1           0   \n",
       "3  48.050503  mg m-3                        0           1           0   \n",
       "4  48.050503  mg m-3                        0           1           0   \n",
       "\n",
       "   Species_NO2  Species_NOX  Species_O3  \n",
       "0            0            0           0  \n",
       "1            0            0           0  \n",
       "2            0            0           0  \n",
       "3            0            0           0  \n",
       "4            0            0           0  "
      ]
     },
     "execution_count": 19,
     "metadata": {},
     "output_type": "execute_result"
    }
   ],
   "source": [
    "data_1.head()"
   ]
  },
  {
   "cell_type": "code",
   "execution_count": 20,
   "id": "9efd8ede-ef77-4be5-818e-82d014d2ffc9",
   "metadata": {},
   "outputs": [
    {
     "data": {
      "text/plain": [
       "Units\n",
       "ug m-3           105120\n",
       "mg m-3            35040\n",
       "ug m-3 as NO2     35040\n",
       "Name: count, dtype: int64"
      ]
     },
     "execution_count": 20,
     "metadata": {},
     "output_type": "execute_result"
    }
   ],
   "source": [
    "data_1['Units'].value_counts()"
   ]
  },
  {
   "cell_type": "markdown",
   "id": "dc6f995c-7e66-4c00-bee5-85e2107d79f4",
   "metadata": {},
   "source": [
    "#### Again we impliment the same for the Units column"
   ]
  },
  {
   "cell_type": "code",
   "execution_count": 21,
   "id": "678421e8-a9ad-48eb-88d4-a9aa19b3b3c8",
   "metadata": {},
   "outputs": [],
   "source": [
    "data_1 = pd.get_dummies(data_1, columns=['Units'], dtype=int)"
   ]
  },
  {
   "cell_type": "code",
   "execution_count": 22,
   "id": "cd552f95-921e-46d1-a6ca-709be300428a",
   "metadata": {},
   "outputs": [
    {
     "data": {
      "text/html": [
       "<div>\n",
       "<style scoped>\n",
       "    .dataframe tbody tr th:only-of-type {\n",
       "        vertical-align: middle;\n",
       "    }\n",
       "\n",
       "    .dataframe tbody tr th {\n",
       "        vertical-align: top;\n",
       "    }\n",
       "\n",
       "    .dataframe thead th {\n",
       "        text-align: right;\n",
       "    }\n",
       "</style>\n",
       "<table border=\"1\" class=\"dataframe\">\n",
       "  <thead>\n",
       "    <tr style=\"text-align: right;\">\n",
       "      <th></th>\n",
       "      <th>Value</th>\n",
       "      <th>Provisional or Ratified</th>\n",
       "      <th>Species_CO</th>\n",
       "      <th>Species_NO</th>\n",
       "      <th>Species_NO2</th>\n",
       "      <th>Species_NOX</th>\n",
       "      <th>Species_O3</th>\n",
       "      <th>Units_mg m-3</th>\n",
       "      <th>Units_ug m-3</th>\n",
       "      <th>Units_ug m-3 as NO2</th>\n",
       "    </tr>\n",
       "  </thead>\n",
       "  <tbody>\n",
       "    <tr>\n",
       "      <th>0</th>\n",
       "      <td>48.050503</td>\n",
       "      <td>0</td>\n",
       "      <td>1</td>\n",
       "      <td>0</td>\n",
       "      <td>0</td>\n",
       "      <td>0</td>\n",
       "      <td>0</td>\n",
       "      <td>1</td>\n",
       "      <td>0</td>\n",
       "      <td>0</td>\n",
       "    </tr>\n",
       "    <tr>\n",
       "      <th>1</th>\n",
       "      <td>48.050503</td>\n",
       "      <td>0</td>\n",
       "      <td>1</td>\n",
       "      <td>0</td>\n",
       "      <td>0</td>\n",
       "      <td>0</td>\n",
       "      <td>0</td>\n",
       "      <td>1</td>\n",
       "      <td>0</td>\n",
       "      <td>0</td>\n",
       "    </tr>\n",
       "    <tr>\n",
       "      <th>2</th>\n",
       "      <td>48.050503</td>\n",
       "      <td>0</td>\n",
       "      <td>1</td>\n",
       "      <td>0</td>\n",
       "      <td>0</td>\n",
       "      <td>0</td>\n",
       "      <td>0</td>\n",
       "      <td>1</td>\n",
       "      <td>0</td>\n",
       "      <td>0</td>\n",
       "    </tr>\n",
       "    <tr>\n",
       "      <th>3</th>\n",
       "      <td>48.050503</td>\n",
       "      <td>0</td>\n",
       "      <td>1</td>\n",
       "      <td>0</td>\n",
       "      <td>0</td>\n",
       "      <td>0</td>\n",
       "      <td>0</td>\n",
       "      <td>1</td>\n",
       "      <td>0</td>\n",
       "      <td>0</td>\n",
       "    </tr>\n",
       "    <tr>\n",
       "      <th>4</th>\n",
       "      <td>48.050503</td>\n",
       "      <td>0</td>\n",
       "      <td>1</td>\n",
       "      <td>0</td>\n",
       "      <td>0</td>\n",
       "      <td>0</td>\n",
       "      <td>0</td>\n",
       "      <td>1</td>\n",
       "      <td>0</td>\n",
       "      <td>0</td>\n",
       "    </tr>\n",
       "  </tbody>\n",
       "</table>\n",
       "</div>"
      ],
      "text/plain": [
       "       Value  Provisional or Ratified  Species_CO  Species_NO  Species_NO2   \n",
       "0  48.050503                        0           1           0            0  \\\n",
       "1  48.050503                        0           1           0            0   \n",
       "2  48.050503                        0           1           0            0   \n",
       "3  48.050503                        0           1           0            0   \n",
       "4  48.050503                        0           1           0            0   \n",
       "\n",
       "   Species_NOX  Species_O3  Units_mg m-3  Units_ug m-3  Units_ug m-3 as NO2  \n",
       "0            0           0             1             0                    0  \n",
       "1            0           0             1             0                    0  \n",
       "2            0           0             1             0                    0  \n",
       "3            0           0             1             0                    0  \n",
       "4            0           0             1             0                    0  "
      ]
     },
     "execution_count": 22,
     "metadata": {},
     "output_type": "execute_result"
    }
   ],
   "source": [
    "data_1.head()"
   ]
  },
  {
   "cell_type": "markdown",
   "id": "85d0bac7-51ca-4b08-874e-29fb6264fccc",
   "metadata": {},
   "source": [
    "### 5. Split the dataset"
   ]
  },
  {
   "cell_type": "code",
   "execution_count": 23,
   "id": "d6845027-915e-437b-bafc-183a5f24dc35",
   "metadata": {},
   "outputs": [],
   "source": [
    "data_train, data_test = train_test_split(data_1, test_size=0.25)"
   ]
  },
  {
   "cell_type": "markdown",
   "id": "6c515025-c7bf-480a-b94f-8274073d92e7",
   "metadata": {},
   "source": [
    "### show the dataset size after spliting the dataset"
   ]
  },
  {
   "cell_type": "code",
   "execution_count": 24,
   "id": "06b4750e-e05c-4f1b-a8bb-f0e735ef783e",
   "metadata": {},
   "outputs": [
    {
     "name": "stdout",
     "output_type": "stream",
     "text": [
      "(131400, 10)\n",
      "(43800, 10)\n"
     ]
    }
   ],
   "source": [
    "print(data_train.shape)\n",
    "print(data_test.shape)"
   ]
  },
  {
   "cell_type": "markdown",
   "id": "41b9cbfc-1114-439e-8553-3eb4d92144be",
   "metadata": {},
   "source": [
    "#### Mean and standard deviation result for numerical columns\n",
    "\n",
    "* As there is a single column that is numerical we will only calculate the mean and standard deviation for the same column"
   ]
  },
  {
   "cell_type": "code",
   "execution_count": 25,
   "id": "381c1b09-cf01-49a2-ad47-04c90a7e7419",
   "metadata": {},
   "outputs": [
    {
     "name": "stdout",
     "output_type": "stream",
     "text": [
      "Column name :  Value\n",
      "Training set mean: 48.0201911489353\n",
      "Testing set mean: 48.141436815864544\n",
      "Training set std: 46.884353690008936\n",
      "Testing set std: 47.510488663962995\n"
     ]
    }
   ],
   "source": [
    "Numeric_columns = ['Value']\n",
    "for col in Numeric_columns:\n",
    "  print(\"Column name : \",col)\n",
    "  print('Training set mean:', data_train[col].mean())\n",
    "  print('Testing set mean:', data_test[col].mean())\n",
    "  print('Training set std:', data_train[col].std())\n",
    "  print('Testing set std:', data_test[col].std())"
   ]
  },
  {
   "cell_type": "markdown",
   "id": "17f6cbd3-16e7-48b2-b93b-b3033485c223",
   "metadata": {},
   "source": [
    "### Conclusion\n",
    "\n",
    "* We can see that the training datasets mean and standard deviation is slightly less than the test set."
   ]
  },
  {
   "cell_type": "markdown",
   "id": "7364a926-bef5-4abb-9991-da03e9bb2805",
   "metadata": {},
   "source": [
    "## Read the Dataset provided (Dataset 2)"
   ]
  },
  {
   "cell_type": "code",
   "execution_count": 26,
   "id": "e1188b8d-19f3-420a-b3e5-806dbdd1fdce",
   "metadata": {},
   "outputs": [],
   "source": [
    "DATA_PATH_SalaryPrediction=os.path.join(os.getcwd(),\"SalaryPrediction.csv\")\n",
    "data_SalaryPrediction=pd.read_csv(DATA_PATH_SalaryPrediction)"
   ]
  },
  {
   "cell_type": "code",
   "execution_count": 27,
   "id": "4a6ec2fe-fd26-4312-b838-0c53987b08ee",
   "metadata": {},
   "outputs": [
    {
     "data": {
      "text/html": [
       "<div>\n",
       "<style scoped>\n",
       "    .dataframe tbody tr th:only-of-type {\n",
       "        vertical-align: middle;\n",
       "    }\n",
       "\n",
       "    .dataframe tbody tr th {\n",
       "        vertical-align: top;\n",
       "    }\n",
       "\n",
       "    .dataframe thead th {\n",
       "        text-align: right;\n",
       "    }\n",
       "</style>\n",
       "<table border=\"1\" class=\"dataframe\">\n",
       "  <thead>\n",
       "    <tr style=\"text-align: right;\">\n",
       "      <th></th>\n",
       "      <th>Wage</th>\n",
       "      <th>Age</th>\n",
       "      <th>Club</th>\n",
       "      <th>League</th>\n",
       "      <th>Nation</th>\n",
       "      <th>Position</th>\n",
       "      <th>Apps</th>\n",
       "      <th>Caps</th>\n",
       "    </tr>\n",
       "  </thead>\n",
       "  <tbody>\n",
       "    <tr>\n",
       "      <th>0</th>\n",
       "      <td>46,427,000</td>\n",
       "      <td>23.0</td>\n",
       "      <td>PSG</td>\n",
       "      <td>Ligue 1 Uber Eats</td>\n",
       "      <td>FRA</td>\n",
       "      <td>Forward</td>\n",
       "      <td>190</td>\n",
       "      <td>57</td>\n",
       "    </tr>\n",
       "    <tr>\n",
       "      <th>1</th>\n",
       "      <td>42,125,000</td>\n",
       "      <td>30.0</td>\n",
       "      <td>PSG</td>\n",
       "      <td>Ligue 1 Uber Eats</td>\n",
       "      <td>BRA</td>\n",
       "      <td>Midfilder</td>\n",
       "      <td>324</td>\n",
       "      <td>119</td>\n",
       "    </tr>\n",
       "    <tr>\n",
       "      <th>2</th>\n",
       "      <td>34,821,000</td>\n",
       "      <td>35.0</td>\n",
       "      <td>PSG</td>\n",
       "      <td>Ligue 1 Uber Eats</td>\n",
       "      <td>ARG</td>\n",
       "      <td>Forward</td>\n",
       "      <td>585</td>\n",
       "      <td>162</td>\n",
       "    </tr>\n",
       "    <tr>\n",
       "      <th>3</th>\n",
       "      <td>19,959,000</td>\n",
       "      <td>31.0</td>\n",
       "      <td>R. Madrid</td>\n",
       "      <td>La Liga</td>\n",
       "      <td>BEL</td>\n",
       "      <td>Forward</td>\n",
       "      <td>443</td>\n",
       "      <td>120</td>\n",
       "    </tr>\n",
       "    <tr>\n",
       "      <th>4</th>\n",
       "      <td>19,500,000</td>\n",
       "      <td>NaN</td>\n",
       "      <td>Man UFC</td>\n",
       "      <td>Premier League</td>\n",
       "      <td>ESP</td>\n",
       "      <td>Goalkeeper</td>\n",
       "      <td>480</td>\n",
       "      <td>45</td>\n",
       "    </tr>\n",
       "  </tbody>\n",
       "</table>\n",
       "</div>"
      ],
      "text/plain": [
       "         Wage   Age       Club             League Nation    Position  Apps   \n",
       "0  46,427,000  23.0        PSG  Ligue 1 Uber Eats    FRA     Forward   190  \\\n",
       "1  42,125,000  30.0        PSG  Ligue 1 Uber Eats    BRA   Midfilder   324   \n",
       "2  34,821,000  35.0        PSG  Ligue 1 Uber Eats    ARG     Forward   585   \n",
       "3  19,959,000  31.0  R. Madrid            La Liga    BEL     Forward   443   \n",
       "4  19,500,000   NaN    Man UFC     Premier League    ESP  Goalkeeper   480   \n",
       "\n",
       "   Caps  \n",
       "0    57  \n",
       "1   119  \n",
       "2   162  \n",
       "3   120  \n",
       "4    45  "
      ]
     },
     "execution_count": 27,
     "metadata": {},
     "output_type": "execute_result"
    }
   ],
   "source": [
    "data_SalaryPrediction.head() ##preview the dataset using head function"
   ]
  },
  {
   "cell_type": "code",
   "execution_count": 28,
   "id": "21bc7bde-8260-493a-9de8-e2dc55b29827",
   "metadata": {},
   "outputs": [
    {
     "data": {
      "text/plain": [
       "Index(['Wage', 'Age', 'Club', 'League', 'Nation', 'Position', 'Apps', 'Caps'], dtype='object')"
      ]
     },
     "execution_count": 28,
     "metadata": {},
     "output_type": "execute_result"
    }
   ],
   "source": [
    "data_SalaryPrediction.columns ## columns present in the traffic dataset"
   ]
  },
  {
   "cell_type": "code",
   "execution_count": 29,
   "id": "d2b47ae3-e61d-4256-80c3-a532a74f7698",
   "metadata": {},
   "outputs": [
    {
     "name": "stdout",
     "output_type": "stream",
     "text": [
      "shape of dataset ---->  (3907, 8)\n",
      "Number of examples ----->  3907\n",
      "Number of columns ----->  8\n"
     ]
    }
   ],
   "source": [
    "print(\"shape of dataset ----> \",data_SalaryPrediction.shape)\n",
    "print(\"Number of examples -----> \",data_SalaryPrediction.shape[0])\n",
    "print(\"Number of columns -----> \",data_SalaryPrediction.shape[1])"
   ]
  },
  {
   "cell_type": "markdown",
   "id": "e7eae83f-d422-4e7d-938a-50ac78fd9a84",
   "metadata": {},
   "source": [
    "### Below we would be following same basic techniques to get the statistics as we did in the above"
   ]
  },
  {
   "cell_type": "code",
   "execution_count": 30,
   "id": "3a022426-668e-47fb-8525-d19218ad8a56",
   "metadata": {},
   "outputs": [
    {
     "data": {
      "text/html": [
       "<div>\n",
       "<style scoped>\n",
       "    .dataframe tbody tr th:only-of-type {\n",
       "        vertical-align: middle;\n",
       "    }\n",
       "\n",
       "    .dataframe tbody tr th {\n",
       "        vertical-align: top;\n",
       "    }\n",
       "\n",
       "    .dataframe thead th {\n",
       "        text-align: right;\n",
       "    }\n",
       "</style>\n",
       "<table border=\"1\" class=\"dataframe\">\n",
       "  <thead>\n",
       "    <tr style=\"text-align: right;\">\n",
       "      <th></th>\n",
       "      <th>Age</th>\n",
       "      <th>Apps</th>\n",
       "      <th>Caps</th>\n",
       "    </tr>\n",
       "  </thead>\n",
       "  <tbody>\n",
       "    <tr>\n",
       "      <th>count</th>\n",
       "      <td>3833.000000</td>\n",
       "      <td>3907.000000</td>\n",
       "      <td>3907.000000</td>\n",
       "    </tr>\n",
       "    <tr>\n",
       "      <th>mean</th>\n",
       "      <td>24.060788</td>\n",
       "      <td>140.057077</td>\n",
       "      <td>8.926542</td>\n",
       "    </tr>\n",
       "    <tr>\n",
       "      <th>std</th>\n",
       "      <td>4.933452</td>\n",
       "      <td>131.694425</td>\n",
       "      <td>20.518234</td>\n",
       "    </tr>\n",
       "    <tr>\n",
       "      <th>min</th>\n",
       "      <td>18.000000</td>\n",
       "      <td>0.000000</td>\n",
       "      <td>0.000000</td>\n",
       "    </tr>\n",
       "    <tr>\n",
       "      <th>25%</th>\n",
       "      <td>20.000000</td>\n",
       "      <td>15.000000</td>\n",
       "      <td>0.000000</td>\n",
       "    </tr>\n",
       "    <tr>\n",
       "      <th>50%</th>\n",
       "      <td>23.000000</td>\n",
       "      <td>115.000000</td>\n",
       "      <td>0.000000</td>\n",
       "    </tr>\n",
       "    <tr>\n",
       "      <th>75%</th>\n",
       "      <td>28.000000</td>\n",
       "      <td>224.500000</td>\n",
       "      <td>6.000000</td>\n",
       "    </tr>\n",
       "    <tr>\n",
       "      <th>max</th>\n",
       "      <td>41.000000</td>\n",
       "      <td>715.000000</td>\n",
       "      <td>180.000000</td>\n",
       "    </tr>\n",
       "  </tbody>\n",
       "</table>\n",
       "</div>"
      ],
      "text/plain": [
       "               Age         Apps         Caps\n",
       "count  3833.000000  3907.000000  3907.000000\n",
       "mean     24.060788   140.057077     8.926542\n",
       "std       4.933452   131.694425    20.518234\n",
       "min      18.000000     0.000000     0.000000\n",
       "25%      20.000000    15.000000     0.000000\n",
       "50%      23.000000   115.000000     0.000000\n",
       "75%      28.000000   224.500000     6.000000\n",
       "max      41.000000   715.000000   180.000000"
      ]
     },
     "execution_count": 30,
     "metadata": {},
     "output_type": "execute_result"
    }
   ],
   "source": [
    "data_SalaryPrediction.describe()"
   ]
  },
  {
   "cell_type": "code",
   "execution_count": 31,
   "id": "d0232132-4c02-425d-8b45-9533ed71d5e6",
   "metadata": {},
   "outputs": [
    {
     "name": "stdout",
     "output_type": "stream",
     "text": [
      "<class 'pandas.core.frame.DataFrame'>\n",
      "RangeIndex: 3907 entries, 0 to 3906\n",
      "Data columns (total 8 columns):\n",
      " #   Column    Non-Null Count  Dtype  \n",
      "---  ------    --------------  -----  \n",
      " 0   Wage      3907 non-null   object \n",
      " 1   Age       3833 non-null   float64\n",
      " 2   Club      3907 non-null   object \n",
      " 3   League    3907 non-null   object \n",
      " 4   Nation    3907 non-null   object \n",
      " 5   Position  3907 non-null   object \n",
      " 6   Apps      3907 non-null   int64  \n",
      " 7   Caps      3907 non-null   int64  \n",
      "dtypes: float64(1), int64(2), object(5)\n",
      "memory usage: 244.3+ KB\n"
     ]
    }
   ],
   "source": [
    "\n",
    "data_SalaryPrediction.info()"
   ]
  },
  {
   "cell_type": "markdown",
   "id": "aee5da34-303d-4ecb-8f5b-140f294c6815",
   "metadata": {},
   "source": [
    "### 1. Remove Duplicates value "
   ]
  },
  {
   "cell_type": "code",
   "execution_count": 32,
   "id": "a0ac0679-3597-4232-844b-b59da04a7e2b",
   "metadata": {},
   "outputs": [],
   "source": [
    "# shape before removing duplicates"
   ]
  },
  {
   "cell_type": "code",
   "execution_count": 33,
   "id": "4670a02b-e5bc-4254-9c58-9c7b81f83453",
   "metadata": {},
   "outputs": [
    {
     "data": {
      "text/plain": [
       "(3907, 8)"
      ]
     },
     "execution_count": 33,
     "metadata": {},
     "output_type": "execute_result"
    }
   ],
   "source": [
    "data_SalaryPrediction.shape"
   ]
  },
  {
   "cell_type": "code",
   "execution_count": 34,
   "id": "776a7c95-508e-42b2-9707-a018a4b1ff02",
   "metadata": {},
   "outputs": [],
   "source": [
    "data_SalaryPrediction = data_SalaryPrediction.drop_duplicates()"
   ]
  },
  {
   "cell_type": "code",
   "execution_count": 35,
   "id": "86a9d3e4-39e0-4a45-821f-fe2259be0db7",
   "metadata": {},
   "outputs": [
    {
     "data": {
      "text/plain": [
       "(3842, 8)"
      ]
     },
     "execution_count": 35,
     "metadata": {},
     "output_type": "execute_result"
    }
   ],
   "source": [
    "data_SalaryPrediction.shape"
   ]
  },
  {
   "cell_type": "markdown",
   "id": "673600ca-6205-4f66-a6f3-aded59867a2b",
   "metadata": {},
   "source": [
    "* There were some duplicated value which we removed."
   ]
  },
  {
   "cell_type": "markdown",
   "id": "9e11ea98-cdb0-4ebe-a197-6e5df28e8c01",
   "metadata": {},
   "source": [
    "### 2. Remove unwanted columns"
   ]
  },
  {
   "cell_type": "markdown",
   "id": "ca7f6389-02af-4053-8daf-a9a90f23f5bc",
   "metadata": {},
   "source": [
    "* In this dataset, all are important columns. So we will keep all columns for now."
   ]
  },
  {
   "cell_type": "code",
   "execution_count": 36,
   "id": "4cebc3fb-d64d-4163-8585-388586e38fc1",
   "metadata": {},
   "outputs": [],
   "source": [
    "#data_1.drop(columns=[], axis=1, inplace=True)"
   ]
  },
  {
   "cell_type": "markdown",
   "id": "607f0e47-060b-4c6e-bf3b-8add4b7bb3bb",
   "metadata": {},
   "source": [
    "### 3. Checking the null values"
   ]
  },
  {
   "cell_type": "code",
   "execution_count": 37,
   "id": "2fd1eb0e-e55d-47a5-ad86-dd30b5a902d8",
   "metadata": {},
   "outputs": [
    {
     "data": {
      "text/plain": [
       "Wage         0\n",
       "Age         74\n",
       "Club         0\n",
       "League       0\n",
       "Nation       0\n",
       "Position     0\n",
       "Apps         0\n",
       "Caps         0\n",
       "dtype: int64"
      ]
     },
     "execution_count": 37,
     "metadata": {},
     "output_type": "execute_result"
    }
   ],
   "source": [
    "data_SalaryPrediction.isna().sum()"
   ]
  },
  {
   "cell_type": "code",
   "execution_count": null,
   "id": "8a6c3e06-1656-4178-b0ce-ff07c0c4c46a",
   "metadata": {},
   "outputs": [],
   "source": []
  },
  {
   "cell_type": "code",
   "execution_count": 38,
   "id": "fe024b3e-86e3-440f-9552-058f6b7312c8",
   "metadata": {},
   "outputs": [
    {
     "name": "stdout",
     "output_type": "stream",
     "text": [
      "rows present before handling nan : 3842\n",
      "rows present after handling nan : 3842\n"
     ]
    }
   ],
   "source": [
    "##from the above info function, we can see that Value column has 131724 float values, so rest 43476 contain null values,\n",
    "## even from the above dataframe view we saw Value column has NaN value\n",
    "## so we need to remove those rows or impute with some impute techniques\n",
    "## here we would be imputing with mean of the value.\n",
    "\n",
    "\n",
    "print('rows present before handling nan :', data_SalaryPrediction.shape[0])\n",
    "data_SalaryPrediction['Age'] = data_SalaryPrediction['Age'].fillna(int(data_SalaryPrediction['Age'].median()))\n",
    "print('rows present after handling nan :', data_SalaryPrediction.shape[0])"
   ]
  },
  {
   "cell_type": "markdown",
   "id": "b7ccc0ac-e011-4798-aed7-c37ac541ccb9",
   "metadata": {},
   "source": [
    "### 4. Transformation of the data"
   ]
  },
  {
   "cell_type": "code",
   "execution_count": 39,
   "id": "013bc780-656c-4844-8a49-80a21d7ac5e6",
   "metadata": {},
   "outputs": [
    {
     "data": {
      "text/html": [
       "<div>\n",
       "<style scoped>\n",
       "    .dataframe tbody tr th:only-of-type {\n",
       "        vertical-align: middle;\n",
       "    }\n",
       "\n",
       "    .dataframe tbody tr th {\n",
       "        vertical-align: top;\n",
       "    }\n",
       "\n",
       "    .dataframe thead th {\n",
       "        text-align: right;\n",
       "    }\n",
       "</style>\n",
       "<table border=\"1\" class=\"dataframe\">\n",
       "  <thead>\n",
       "    <tr style=\"text-align: right;\">\n",
       "      <th></th>\n",
       "      <th>Wage</th>\n",
       "      <th>Age</th>\n",
       "      <th>Club</th>\n",
       "      <th>League</th>\n",
       "      <th>Nation</th>\n",
       "      <th>Position</th>\n",
       "      <th>Apps</th>\n",
       "      <th>Caps</th>\n",
       "    </tr>\n",
       "  </thead>\n",
       "  <tbody>\n",
       "    <tr>\n",
       "      <th>0</th>\n",
       "      <td>46,427,000</td>\n",
       "      <td>23.0</td>\n",
       "      <td>PSG</td>\n",
       "      <td>Ligue 1 Uber Eats</td>\n",
       "      <td>FRA</td>\n",
       "      <td>Forward</td>\n",
       "      <td>190</td>\n",
       "      <td>57</td>\n",
       "    </tr>\n",
       "    <tr>\n",
       "      <th>1</th>\n",
       "      <td>42,125,000</td>\n",
       "      <td>30.0</td>\n",
       "      <td>PSG</td>\n",
       "      <td>Ligue 1 Uber Eats</td>\n",
       "      <td>BRA</td>\n",
       "      <td>Midfilder</td>\n",
       "      <td>324</td>\n",
       "      <td>119</td>\n",
       "    </tr>\n",
       "    <tr>\n",
       "      <th>2</th>\n",
       "      <td>34,821,000</td>\n",
       "      <td>35.0</td>\n",
       "      <td>PSG</td>\n",
       "      <td>Ligue 1 Uber Eats</td>\n",
       "      <td>ARG</td>\n",
       "      <td>Forward</td>\n",
       "      <td>585</td>\n",
       "      <td>162</td>\n",
       "    </tr>\n",
       "    <tr>\n",
       "      <th>3</th>\n",
       "      <td>19,959,000</td>\n",
       "      <td>31.0</td>\n",
       "      <td>R. Madrid</td>\n",
       "      <td>La Liga</td>\n",
       "      <td>BEL</td>\n",
       "      <td>Forward</td>\n",
       "      <td>443</td>\n",
       "      <td>120</td>\n",
       "    </tr>\n",
       "    <tr>\n",
       "      <th>4</th>\n",
       "      <td>19,500,000</td>\n",
       "      <td>24.0</td>\n",
       "      <td>Man UFC</td>\n",
       "      <td>Premier League</td>\n",
       "      <td>ESP</td>\n",
       "      <td>Goalkeeper</td>\n",
       "      <td>480</td>\n",
       "      <td>45</td>\n",
       "    </tr>\n",
       "  </tbody>\n",
       "</table>\n",
       "</div>"
      ],
      "text/plain": [
       "         Wage   Age       Club             League Nation    Position  Apps   \n",
       "0  46,427,000  23.0        PSG  Ligue 1 Uber Eats    FRA     Forward   190  \\\n",
       "1  42,125,000  30.0        PSG  Ligue 1 Uber Eats    BRA   Midfilder   324   \n",
       "2  34,821,000  35.0        PSG  Ligue 1 Uber Eats    ARG     Forward   585   \n",
       "3  19,959,000  31.0  R. Madrid            La Liga    BEL     Forward   443   \n",
       "4  19,500,000  24.0    Man UFC     Premier League    ESP  Goalkeeper   480   \n",
       "\n",
       "   Caps  \n",
       "0    57  \n",
       "1   119  \n",
       "2   162  \n",
       "3   120  \n",
       "4    45  "
      ]
     },
     "execution_count": 39,
     "metadata": {},
     "output_type": "execute_result"
    }
   ],
   "source": [
    "data_SalaryPrediction.head()"
   ]
  },
  {
   "cell_type": "markdown",
   "id": "de0f631e-a3ba-4238-a504-45d1dd3f3013",
   "metadata": {},
   "source": [
    "* We see that Wage column should be numerical but it is object datatype. So we will remove comma and make it to numerical."
   ]
  },
  {
   "cell_type": "code",
   "execution_count": 40,
   "id": "ddab1d27-500e-45cc-97d5-f41bea59e3e2",
   "metadata": {},
   "outputs": [],
   "source": [
    "data_SalaryPrediction['Wage'] = data_SalaryPrediction['Wage'].str.replace(\",\",'').astype(int)"
   ]
  },
  {
   "cell_type": "markdown",
   "id": "285d2789-8136-492c-9479-58a1eae2ec2b",
   "metadata": {},
   "source": [
    "## scatter plot wage v/s age\n"
   ]
  },
  {
   "cell_type": "code",
   "execution_count": 41,
   "id": "c079c4ee-b366-49c5-8266-98c076c048cf",
   "metadata": {},
   "outputs": [
    {
     "data": {
      "image/png": "[encoded data removed]",
      "text/plain": [
       "<Figure size 640x480 with 1 Axes>"
      ]
     },
     "metadata": {},
     "output_type": "display_data"
    }
   ],
   "source": [
    "sns.scatterplot(data=data_SalaryPrediction,  x='Age', y='Wage',hue=\"Wage\")\n",
    "plt.title('Dataset Wage Vs Age')\n",
    "plt.show()"
   ]
  },
  {
   "cell_type": "markdown",
   "id": "bf172ac4-813d-4093-b58c-020e453e8933",
   "metadata": {},
   "source": [
    "## Bar plot wage v/s league\n"
   ]
  },
  {
   "cell_type": "code",
   "execution_count": 42,
   "id": "83ff485b-14bd-4bb5-a598-315d194869ed",
   "metadata": {},
   "outputs": [
    {
     "data": {
      "image/png": "[encoded data removed]",
      "text/plain": [
       "<Figure size 640x480 with 1 Axes>"
      ]
     },
     "metadata": {},
     "output_type": "display_data"
    }
   ],
   "source": [
    "sns.barplot(data=data_SalaryPrediction, x=\"League\", y=\"Wage\")\n",
    "plt.title('Dataset Wage Vs League')\n",
    "plt.xticks(rotation=80)\n",
    "plt.show()"
   ]
  },
  {
   "cell_type": "markdown",
   "id": "d92d568b-eab7-4419-87b1-d72b19d4dc6a",
   "metadata": {},
   "source": [
    "## Bar plot wage v/s age\n"
   ]
  },
  {
   "cell_type": "code",
   "execution_count": 43,
   "id": "48b3a1d4-61bf-42ce-94f4-20d92e4b0ba0",
   "metadata": {},
   "outputs": [
    {
     "data": {
      "image/png": "[encoded data removed]",
      "text/plain": [
       "<Figure size 640x480 with 1 Axes>"
      ]
     },
     "metadata": {},
     "output_type": "display_data"
    }
   ],
   "source": [
    "## bar plot wage v/s age\n",
    "\n",
    "sns.barplot(data=data_SalaryPrediction, x=\"Position\", y=\"Wage\")\n",
    "plt.title('Dataset Wage Vs Position')\n",
    "plt.show()"
   ]
  },
  {
   "cell_type": "markdown",
   "id": "98486c41-3789-42f0-b349-9090bdaa54f1",
   "metadata": {},
   "source": [
    "### 5. Encoding of the categorical variable"
   ]
  },
  {
   "cell_type": "code",
   "execution_count": 44,
   "id": "16c72beb-5488-44c3-a17c-0c8c23e5b5b0",
   "metadata": {},
   "outputs": [
    {
     "data": {
      "text/html": [
       "<div>\n",
       "<style scoped>\n",
       "    .dataframe tbody tr th:only-of-type {\n",
       "        vertical-align: middle;\n",
       "    }\n",
       "\n",
       "    .dataframe tbody tr th {\n",
       "        vertical-align: top;\n",
       "    }\n",
       "\n",
       "    .dataframe thead th {\n",
       "        text-align: right;\n",
       "    }\n",
       "</style>\n",
       "<table border=\"1\" class=\"dataframe\">\n",
       "  <thead>\n",
       "    <tr style=\"text-align: right;\">\n",
       "      <th></th>\n",
       "      <th>Wage</th>\n",
       "      <th>Age</th>\n",
       "      <th>Club</th>\n",
       "      <th>League</th>\n",
       "      <th>Nation</th>\n",
       "      <th>Position</th>\n",
       "      <th>Apps</th>\n",
       "      <th>Caps</th>\n",
       "    </tr>\n",
       "  </thead>\n",
       "  <tbody>\n",
       "    <tr>\n",
       "      <th>0</th>\n",
       "      <td>46427000</td>\n",
       "      <td>23.0</td>\n",
       "      <td>PSG</td>\n",
       "      <td>Ligue 1 Uber Eats</td>\n",
       "      <td>FRA</td>\n",
       "      <td>Forward</td>\n",
       "      <td>190</td>\n",
       "      <td>57</td>\n",
       "    </tr>\n",
       "    <tr>\n",
       "      <th>1</th>\n",
       "      <td>42125000</td>\n",
       "      <td>30.0</td>\n",
       "      <td>PSG</td>\n",
       "      <td>Ligue 1 Uber Eats</td>\n",
       "      <td>BRA</td>\n",
       "      <td>Midfilder</td>\n",
       "      <td>324</td>\n",
       "      <td>119</td>\n",
       "    </tr>\n",
       "    <tr>\n",
       "      <th>2</th>\n",
       "      <td>34821000</td>\n",
       "      <td>35.0</td>\n",
       "      <td>PSG</td>\n",
       "      <td>Ligue 1 Uber Eats</td>\n",
       "      <td>ARG</td>\n",
       "      <td>Forward</td>\n",
       "      <td>585</td>\n",
       "      <td>162</td>\n",
       "    </tr>\n",
       "    <tr>\n",
       "      <th>3</th>\n",
       "      <td>19959000</td>\n",
       "      <td>31.0</td>\n",
       "      <td>R. Madrid</td>\n",
       "      <td>La Liga</td>\n",
       "      <td>BEL</td>\n",
       "      <td>Forward</td>\n",
       "      <td>443</td>\n",
       "      <td>120</td>\n",
       "    </tr>\n",
       "    <tr>\n",
       "      <th>4</th>\n",
       "      <td>19500000</td>\n",
       "      <td>24.0</td>\n",
       "      <td>Man UFC</td>\n",
       "      <td>Premier League</td>\n",
       "      <td>ESP</td>\n",
       "      <td>Goalkeeper</td>\n",
       "      <td>480</td>\n",
       "      <td>45</td>\n",
       "    </tr>\n",
       "  </tbody>\n",
       "</table>\n",
       "</div>"
      ],
      "text/plain": [
       "       Wage   Age       Club             League Nation    Position  Apps  Caps\n",
       "0  46427000  23.0        PSG  Ligue 1 Uber Eats    FRA     Forward   190    57\n",
       "1  42125000  30.0        PSG  Ligue 1 Uber Eats    BRA   Midfilder   324   119\n",
       "2  34821000  35.0        PSG  Ligue 1 Uber Eats    ARG     Forward   585   162\n",
       "3  19959000  31.0  R. Madrid            La Liga    BEL     Forward   443   120\n",
       "4  19500000  24.0    Man UFC     Premier League    ESP  Goalkeeper   480    45"
      ]
     },
     "execution_count": 44,
     "metadata": {},
     "output_type": "execute_result"
    }
   ],
   "source": [
    "data_SalaryPrediction.head()"
   ]
  },
  {
   "cell_type": "code",
   "execution_count": 45,
   "id": "ccf49a49-e315-454a-a59d-b36476b821d9",
   "metadata": {},
   "outputs": [
    {
     "data": {
      "text/plain": [
       "Club\n",
       "MRT           64\n",
       "BRG           60\n",
       "VIZ           55\n",
       "Chelsea       52\n",
       "Leicester     51\n",
       "              ..\n",
       "OL            21\n",
       "FC Lorient    21\n",
       "LOSC          21\n",
       "PSG           20\n",
       "Clermont      18\n",
       "Name: count, Length: 116, dtype: int64"
      ]
     },
     "execution_count": 45,
     "metadata": {},
     "output_type": "execute_result"
    }
   ],
   "source": [
    "data_SalaryPrediction['Club'].value_counts()"
   ]
  },
  {
   "cell_type": "code",
   "execution_count": 46,
   "id": "95de8140-c800-4efb-99e2-8cf130940b08",
   "metadata": {},
   "outputs": [
    {
     "data": {
      "text/plain": [
       "Nation\n",
       "ESP    431\n",
       "POR    419\n",
       "ENG    396\n",
       "FRA    351\n",
       "GER    283\n",
       "      ... \n",
       "BDI      1\n",
       "MSR      1\n",
       "UZB      1\n",
       "SUR      1\n",
       "SIN      1\n",
       "Name: count, Length: 114, dtype: int64"
      ]
     },
     "execution_count": 46,
     "metadata": {},
     "output_type": "execute_result"
    }
   ],
   "source": [
    "data_SalaryPrediction['Nation'].value_counts()"
   ]
  },
  {
   "cell_type": "markdown",
   "id": "336fe3f3-66fc-4acb-a11f-ba00296943ab",
   "metadata": {},
   "source": [
    "#### Label Encoding"
   ]
  },
  {
   "cell_type": "code",
   "execution_count": 47,
   "id": "bc59528c-5c16-44fc-8620-0ea5a28a51de",
   "metadata": {},
   "outputs": [],
   "source": [
    "import pandas as pd\n",
    "from sklearn.preprocessing import LabelEncoder\n",
    "\n",
    "# Assuming data_SalaryPrediction is your DataFrame\n",
    "# Creating an instance of LabelEncoder\n",
    "label_encoder = LabelEncoder()\n",
    "\n",
    "# Fit and transform the 'Club' column\n",
    "data_SalaryPrediction['Club'] = label_encoder.fit_transform(data_SalaryPrediction['Club'])\n"
   ]
  },
  {
   "cell_type": "code",
   "execution_count": 48,
   "id": "53bd88c5-e8a8-4747-a53c-38730f83b03a",
   "metadata": {},
   "outputs": [],
   "source": [
    "label_encoder = LabelEncoder()\n",
    "\n",
    "# Fit and transform the 'Club' column\n",
    "data_SalaryPrediction['Nation'] = label_encoder.fit_transform(data_SalaryPrediction['Nation'])"
   ]
  },
  {
   "cell_type": "markdown",
   "id": "9fbbb12f-7b86-480d-bb1d-626fc3e485f5",
   "metadata": {},
   "source": [
    "#### One-hot enconding:\n",
    "\n",
    "* As there are multiple value but limited in League,Position. We will apply one-hot encoding as there is no sequence here. "
   ]
  },
  {
   "cell_type": "code",
   "execution_count": 49,
   "id": "75d2b613-2d02-4415-ae95-7803171c89d7",
   "metadata": {},
   "outputs": [
    {
     "data": {
      "text/plain": [
       "League\n",
       "Premier League       861\n",
       "Primiera Liga        736\n",
       "Serie A              669\n",
       "La Liga              573\n",
       "Bundesliga           542\n",
       "Ligue 1 Uber Eats    461\n",
       "Name: count, dtype: int64"
      ]
     },
     "execution_count": 49,
     "metadata": {},
     "output_type": "execute_result"
    }
   ],
   "source": [
    "data_SalaryPrediction['League'].value_counts()"
   ]
  },
  {
   "cell_type": "code",
   "execution_count": 50,
   "id": "3305aa15-5736-463d-aa12-29bcd5042d29",
   "metadata": {},
   "outputs": [
    {
     "data": {
      "text/plain": [
       "Position\n",
       "Defender      1452\n",
       "Midfilder     1140\n",
       "Forward        821\n",
       "Goalkeeper     429\n",
       "Name: count, dtype: int64"
      ]
     },
     "execution_count": 50,
     "metadata": {},
     "output_type": "execute_result"
    }
   ],
   "source": [
    "data_SalaryPrediction['Position'].value_counts()"
   ]
  },
  {
   "cell_type": "code",
   "execution_count": 51,
   "id": "5c7d63bb-7c1c-491a-a9db-19693d3f99aa",
   "metadata": {},
   "outputs": [],
   "source": [
    "data_SalaryPrediction = pd.get_dummies(data_SalaryPrediction, columns=['League', 'Position'], dtype=int)"
   ]
  },
  {
   "cell_type": "code",
   "execution_count": 52,
   "id": "0d1900aa-4603-47d1-8853-34661139acd2",
   "metadata": {},
   "outputs": [
    {
     "data": {
      "text/html": [
       "<div>\n",
       "<style scoped>\n",
       "    .dataframe tbody tr th:only-of-type {\n",
       "        vertical-align: middle;\n",
       "    }\n",
       "\n",
       "    .dataframe tbody tr th {\n",
       "        vertical-align: top;\n",
       "    }\n",
       "\n",
       "    .dataframe thead th {\n",
       "        text-align: right;\n",
       "    }\n",
       "</style>\n",
       "<table border=\"1\" class=\"dataframe\">\n",
       "  <thead>\n",
       "    <tr style=\"text-align: right;\">\n",
       "      <th></th>\n",
       "      <th>Wage</th>\n",
       "      <th>Age</th>\n",
       "      <th>Club</th>\n",
       "      <th>Nation</th>\n",
       "      <th>Apps</th>\n",
       "      <th>Caps</th>\n",
       "      <th>League_Bundesliga</th>\n",
       "      <th>League_La Liga</th>\n",
       "      <th>League_Ligue 1 Uber Eats</th>\n",
       "      <th>League_Premier League</th>\n",
       "      <th>League_Primiera Liga</th>\n",
       "      <th>League_Serie A</th>\n",
       "      <th>Position_Defender</th>\n",
       "      <th>Position_Forward</th>\n",
       "      <th>Position_Goalkeeper</th>\n",
       "      <th>Position_Midfilder</th>\n",
       "    </tr>\n",
       "  </thead>\n",
       "  <tbody>\n",
       "    <tr>\n",
       "      <th>0</th>\n",
       "      <td>46427000</td>\n",
       "      <td>23.0</td>\n",
       "      <td>73</td>\n",
       "      <td>40</td>\n",
       "      <td>190</td>\n",
       "      <td>57</td>\n",
       "      <td>0</td>\n",
       "      <td>0</td>\n",
       "      <td>1</td>\n",
       "      <td>0</td>\n",
       "      <td>0</td>\n",
       "      <td>0</td>\n",
       "      <td>0</td>\n",
       "      <td>1</td>\n",
       "      <td>0</td>\n",
       "      <td>0</td>\n",
       "    </tr>\n",
       "    <tr>\n",
       "      <th>1</th>\n",
       "      <td>42125000</td>\n",
       "      <td>30.0</td>\n",
       "      <td>73</td>\n",
       "      <td>13</td>\n",
       "      <td>324</td>\n",
       "      <td>119</td>\n",
       "      <td>0</td>\n",
       "      <td>0</td>\n",
       "      <td>1</td>\n",
       "      <td>0</td>\n",
       "      <td>0</td>\n",
       "      <td>0</td>\n",
       "      <td>0</td>\n",
       "      <td>0</td>\n",
       "      <td>0</td>\n",
       "      <td>1</td>\n",
       "    </tr>\n",
       "    <tr>\n",
       "      <th>2</th>\n",
       "      <td>34821000</td>\n",
       "      <td>35.0</td>\n",
       "      <td>73</td>\n",
       "      <td>3</td>\n",
       "      <td>585</td>\n",
       "      <td>162</td>\n",
       "      <td>0</td>\n",
       "      <td>0</td>\n",
       "      <td>1</td>\n",
       "      <td>0</td>\n",
       "      <td>0</td>\n",
       "      <td>0</td>\n",
       "      <td>0</td>\n",
       "      <td>1</td>\n",
       "      <td>0</td>\n",
       "      <td>0</td>\n",
       "    </tr>\n",
       "    <tr>\n",
       "      <th>3</th>\n",
       "      <td>19959000</td>\n",
       "      <td>31.0</td>\n",
       "      <td>76</td>\n",
       "      <td>8</td>\n",
       "      <td>443</td>\n",
       "      <td>120</td>\n",
       "      <td>0</td>\n",
       "      <td>1</td>\n",
       "      <td>0</td>\n",
       "      <td>0</td>\n",
       "      <td>0</td>\n",
       "      <td>0</td>\n",
       "      <td>0</td>\n",
       "      <td>1</td>\n",
       "      <td>0</td>\n",
       "      <td>0</td>\n",
       "    </tr>\n",
       "    <tr>\n",
       "      <th>4</th>\n",
       "      <td>19500000</td>\n",
       "      <td>24.0</td>\n",
       "      <td>64</td>\n",
       "      <td>37</td>\n",
       "      <td>480</td>\n",
       "      <td>45</td>\n",
       "      <td>0</td>\n",
       "      <td>0</td>\n",
       "      <td>0</td>\n",
       "      <td>1</td>\n",
       "      <td>0</td>\n",
       "      <td>0</td>\n",
       "      <td>0</td>\n",
       "      <td>0</td>\n",
       "      <td>1</td>\n",
       "      <td>0</td>\n",
       "    </tr>\n",
       "  </tbody>\n",
       "</table>\n",
       "</div>"
      ],
      "text/plain": [
       "       Wage   Age  Club  Nation  Apps  Caps  League_Bundesliga   \n",
       "0  46427000  23.0    73      40   190    57                  0  \\\n",
       "1  42125000  30.0    73      13   324   119                  0   \n",
       "2  34821000  35.0    73       3   585   162                  0   \n",
       "3  19959000  31.0    76       8   443   120                  0   \n",
       "4  19500000  24.0    64      37   480    45                  0   \n",
       "\n",
       "   League_La Liga  League_Ligue 1 Uber Eats  League_Premier League   \n",
       "0               0                         1                      0  \\\n",
       "1               0                         1                      0   \n",
       "2               0                         1                      0   \n",
       "3               1                         0                      0   \n",
       "4               0                         0                      1   \n",
       "\n",
       "   League_Primiera Liga  League_Serie A  Position_Defender  Position_Forward   \n",
       "0                     0               0                  0                 1  \\\n",
       "1                     0               0                  0                 0   \n",
       "2                     0               0                  0                 1   \n",
       "3                     0               0                  0                 1   \n",
       "4                     0               0                  0                 0   \n",
       "\n",
       "   Position_Goalkeeper  Position_Midfilder  \n",
       "0                    0                   0  \n",
       "1                    0                   1  \n",
       "2                    0                   0  \n",
       "3                    0                   0  \n",
       "4                    1                   0  "
      ]
     },
     "execution_count": 52,
     "metadata": {},
     "output_type": "execute_result"
    }
   ],
   "source": [
    "data_SalaryPrediction.head()"
   ]
  },
  {
   "cell_type": "markdown",
   "id": "9afec8f0-8110-453f-9efc-6de5a1a66d70",
   "metadata": {},
   "source": [
    "## 5. Normalising of the data"
   ]
  },
  {
   "cell_type": "code",
   "execution_count": 53,
   "id": "829d3be8-2227-425c-95b3-541cc3fbc1f9",
   "metadata": {},
   "outputs": [
    {
     "data": {
      "text/html": [
       "<div>\n",
       "<style scoped>\n",
       "    .dataframe tbody tr th:only-of-type {\n",
       "        vertical-align: middle;\n",
       "    }\n",
       "\n",
       "    .dataframe tbody tr th {\n",
       "        vertical-align: top;\n",
       "    }\n",
       "\n",
       "    .dataframe thead th {\n",
       "        text-align: right;\n",
       "    }\n",
       "</style>\n",
       "<table border=\"1\" class=\"dataframe\">\n",
       "  <thead>\n",
       "    <tr style=\"text-align: right;\">\n",
       "      <th></th>\n",
       "      <th>Wage</th>\n",
       "      <th>Age</th>\n",
       "      <th>Club</th>\n",
       "      <th>Nation</th>\n",
       "      <th>Apps</th>\n",
       "      <th>Caps</th>\n",
       "      <th>League_Bundesliga</th>\n",
       "      <th>League_La Liga</th>\n",
       "      <th>League_Ligue 1 Uber Eats</th>\n",
       "      <th>League_Premier League</th>\n",
       "      <th>League_Primiera Liga</th>\n",
       "      <th>League_Serie A</th>\n",
       "      <th>Position_Defender</th>\n",
       "      <th>Position_Forward</th>\n",
       "      <th>Position_Goalkeeper</th>\n",
       "      <th>Position_Midfilder</th>\n",
       "    </tr>\n",
       "  </thead>\n",
       "  <tbody>\n",
       "    <tr>\n",
       "      <th>0</th>\n",
       "      <td>46427000</td>\n",
       "      <td>23.0</td>\n",
       "      <td>73</td>\n",
       "      <td>40</td>\n",
       "      <td>190</td>\n",
       "      <td>57</td>\n",
       "      <td>0</td>\n",
       "      <td>0</td>\n",
       "      <td>1</td>\n",
       "      <td>0</td>\n",
       "      <td>0</td>\n",
       "      <td>0</td>\n",
       "      <td>0</td>\n",
       "      <td>1</td>\n",
       "      <td>0</td>\n",
       "      <td>0</td>\n",
       "    </tr>\n",
       "    <tr>\n",
       "      <th>1</th>\n",
       "      <td>42125000</td>\n",
       "      <td>30.0</td>\n",
       "      <td>73</td>\n",
       "      <td>13</td>\n",
       "      <td>324</td>\n",
       "      <td>119</td>\n",
       "      <td>0</td>\n",
       "      <td>0</td>\n",
       "      <td>1</td>\n",
       "      <td>0</td>\n",
       "      <td>0</td>\n",
       "      <td>0</td>\n",
       "      <td>0</td>\n",
       "      <td>0</td>\n",
       "      <td>0</td>\n",
       "      <td>1</td>\n",
       "    </tr>\n",
       "    <tr>\n",
       "      <th>2</th>\n",
       "      <td>34821000</td>\n",
       "      <td>35.0</td>\n",
       "      <td>73</td>\n",
       "      <td>3</td>\n",
       "      <td>585</td>\n",
       "      <td>162</td>\n",
       "      <td>0</td>\n",
       "      <td>0</td>\n",
       "      <td>1</td>\n",
       "      <td>0</td>\n",
       "      <td>0</td>\n",
       "      <td>0</td>\n",
       "      <td>0</td>\n",
       "      <td>1</td>\n",
       "      <td>0</td>\n",
       "      <td>0</td>\n",
       "    </tr>\n",
       "    <tr>\n",
       "      <th>3</th>\n",
       "      <td>19959000</td>\n",
       "      <td>31.0</td>\n",
       "      <td>76</td>\n",
       "      <td>8</td>\n",
       "      <td>443</td>\n",
       "      <td>120</td>\n",
       "      <td>0</td>\n",
       "      <td>1</td>\n",
       "      <td>0</td>\n",
       "      <td>0</td>\n",
       "      <td>0</td>\n",
       "      <td>0</td>\n",
       "      <td>0</td>\n",
       "      <td>1</td>\n",
       "      <td>0</td>\n",
       "      <td>0</td>\n",
       "    </tr>\n",
       "    <tr>\n",
       "      <th>4</th>\n",
       "      <td>19500000</td>\n",
       "      <td>24.0</td>\n",
       "      <td>64</td>\n",
       "      <td>37</td>\n",
       "      <td>480</td>\n",
       "      <td>45</td>\n",
       "      <td>0</td>\n",
       "      <td>0</td>\n",
       "      <td>0</td>\n",
       "      <td>1</td>\n",
       "      <td>0</td>\n",
       "      <td>0</td>\n",
       "      <td>0</td>\n",
       "      <td>0</td>\n",
       "      <td>1</td>\n",
       "      <td>0</td>\n",
       "    </tr>\n",
       "  </tbody>\n",
       "</table>\n",
       "</div>"
      ],
      "text/plain": [
       "       Wage   Age  Club  Nation  Apps  Caps  League_Bundesliga   \n",
       "0  46427000  23.0    73      40   190    57                  0  \\\n",
       "1  42125000  30.0    73      13   324   119                  0   \n",
       "2  34821000  35.0    73       3   585   162                  0   \n",
       "3  19959000  31.0    76       8   443   120                  0   \n",
       "4  19500000  24.0    64      37   480    45                  0   \n",
       "\n",
       "   League_La Liga  League_Ligue 1 Uber Eats  League_Premier League   \n",
       "0               0                         1                      0  \\\n",
       "1               0                         1                      0   \n",
       "2               0                         1                      0   \n",
       "3               1                         0                      0   \n",
       "4               0                         0                      1   \n",
       "\n",
       "   League_Primiera Liga  League_Serie A  Position_Defender  Position_Forward   \n",
       "0                     0               0                  0                 1  \\\n",
       "1                     0               0                  0                 0   \n",
       "2                     0               0                  0                 1   \n",
       "3                     0               0                  0                 1   \n",
       "4                     0               0                  0                 0   \n",
       "\n",
       "   Position_Goalkeeper  Position_Midfilder  \n",
       "0                    0                   0  \n",
       "1                    0                   1  \n",
       "2                    0                   0  \n",
       "3                    0                   0  \n",
       "4                    1                   0  "
      ]
     },
     "execution_count": 53,
     "metadata": {},
     "output_type": "execute_result"
    }
   ],
   "source": [
    "data_SalaryPrediction.head()"
   ]
  },
  {
   "cell_type": "code",
   "execution_count": 54,
   "id": "d0066024-0e1d-4b62-9313-87dc774ae631",
   "metadata": {},
   "outputs": [],
   "source": [
    "numerical_columns = ['Age'\t,'Apps'\t,'Caps'\t]"
   ]
  },
  {
   "cell_type": "code",
   "execution_count": 55,
   "id": "785feee4-f7a2-40bf-bc37-99fa8bab3faf",
   "metadata": {},
   "outputs": [],
   "source": [
    "from sklearn.preprocessing import MinMaxScaler\n",
    "min_maxscaler = MinMaxScaler()"
   ]
  },
  {
   "cell_type": "code",
   "execution_count": 56,
   "id": "5faa4f70-448f-4443-9b0f-a88976d677e3",
   "metadata": {},
   "outputs": [],
   "source": [
    "data_SalaryPrediction[numerical_columns] =  min_maxscaler.fit_transform(data_SalaryPrediction[numerical_columns])"
   ]
  },
  {
   "cell_type": "markdown",
   "id": "cfd44c5f-f236-4e59-a21d-40e5ef2a7980",
   "metadata": {},
   "source": [
    "## 6.correlation matrix\n",
    "\n",
    "to find the correlation between each columns"
   ]
  },
  {
   "cell_type": "code",
   "execution_count": 57,
   "id": "e8725420-1bb3-4b9e-9362-d24b24e92f45",
   "metadata": {},
   "outputs": [
    {
     "data": {
      "text/plain": [
       "<Axes: >"
      ]
     },
     "execution_count": 57,
     "metadata": {},
     "output_type": "execute_result"
    },
    {
     "data": {
      "image/png": "[encoded data removed]",
      "text/plain": [
       "<Figure size 640x480 with 2 Axes>"
      ]
     },
     "metadata": {},
     "output_type": "display_data"
    }
   ],
   "source": [
    "## correlation matrix\n",
    "data_SalaryPrediction_corr=data_SalaryPrediction[numerical_columns].corr()\n",
    "sns.heatmap(data_SalaryPrediction_corr)"
   ]
  },
  {
   "cell_type": "markdown",
   "id": "2124f8c5-677a-4946-ab40-160b75f84876",
   "metadata": {},
   "source": [
    "## 7. Split the dataset"
   ]
  },
  {
   "cell_type": "code",
   "execution_count": 58,
   "id": "5c642a48-e108-4df9-aa3f-a5ef2db0c68b",
   "metadata": {},
   "outputs": [],
   "source": [
    "data_x = data_SalaryPrediction.drop(['Wage'], axis = 1)\n",
    "data_y = data_SalaryPrediction['Wage']\n",
    "data_x_train, data_x_test, data_y_train, data_y_test = train_test_split(data_x, data_y, test_size=0.25)"
   ]
  },
  {
   "cell_type": "markdown",
   "id": "7a8cfb06-48a1-4284-aca6-a9d1be32a593",
   "metadata": {},
   "source": [
    "### show the dataset size after spliting the dataset"
   ]
  },
  {
   "cell_type": "code",
   "execution_count": 59,
   "id": "165af1b8-4262-45f8-b094-ca9dd9d12937",
   "metadata": {},
   "outputs": [
    {
     "name": "stdout",
     "output_type": "stream",
     "text": [
      "(2881, 15) (2881,)\n",
      "(961, 15) (961,)\n"
     ]
    }
   ],
   "source": [
    "print(data_x_train.shape, data_y_train.shape)\n",
    "print(data_x_test.shape,data_y_test.shape)"
   ]
  },
  {
   "cell_type": "markdown",
   "id": "2d92bdf9-88c8-4095-9c00-fb2d18d56ff3",
   "metadata": {},
   "source": [
    "#### Mean and standard deviation result"
   ]
  },
  {
   "cell_type": "code",
   "execution_count": 60,
   "id": "7794e22c-e965-4816-a7ef-2d61c5498f39",
   "metadata": {},
   "outputs": [
    {
     "name": "stdout",
     "output_type": "stream",
     "text": [
      "Age\n",
      "\tTraining set mean: 0.26517060803163156\n",
      "\tTesting set mean: 0.2757091797493553\n",
      "\tTraining set std: 0.20886794459407704\n",
      "\tTesting set std: 0.21938420733236186\n",
      "Apps\n",
      "\tTraining set mean: 0.1973285305461633\n",
      "\tTesting set mean: 0.20479977878521063\n",
      "\tTraining set std: 0.18220882835729854\n",
      "\tTesting set std: 0.18907767274145107\n",
      "Caps\n",
      "\tTraining set mean: 0.04928458482779899\n",
      "\tTesting set mean: 0.053867499132847725\n",
      "\tTraining set std: 0.11206559670877406\n",
      "\tTesting set std: 0.12250378917178928\n"
     ]
    }
   ],
   "source": [
    "for col in numerical_columns:\n",
    "  print(col)\n",
    "  print('\\tTraining set mean:', data_x_train[col].mean())\n",
    "  print('\\tTesting set mean:', data_x_test[col].mean())\n",
    "  print('\\tTraining set std:', data_x_train[col].std())\n",
    "  print('\\tTesting set std:', data_x_test[col].std())"
   ]
  },
  {
   "cell_type": "markdown",
   "id": "baf6a9d8-1e7c-4e41-a813-6cfb1df0ff0e",
   "metadata": {},
   "source": [
    "## Conclusion\n",
    "\n",
    "\n",
    "By this practise, we got to know that data preprocessing is one of crucial steps before putting the data before training. the dataset which\n",
    "we recieve are usually quite noisy, so they required proper preprocessing techniques, such that the model doesn't learn the unwanted information.Putting a lot of time is essential, as cleaning makes the data more readable and model friendly, which ultimately helps us in achiving our goals"
   ]
  }
 ],
 "metadata": {
  "kernelspec": {
   "display_name": "Python 3 (ipykernel)",
   "language": "python",
   "name": "python3"
  },
  "language_info": {
   "codemirror_mode": {
    "name": "ipython",
    "version": 3
   },
   "file_extension": ".py",
   "mimetype": "text/x-python",
   "name": "python",
   "nbconvert_exporter": "python",
   "pygments_lexer": "ipython3",
   "version": "3.10.13"
  }
 },
 "nbformat": 4,
 "nbformat_minor": 5
}
